{
 "cells": [
  {
   "cell_type": "code",
   "execution_count": 1,
   "id": "a8112574-fbc8-41bd-9159-e5969195eb10",
   "metadata": {},
   "outputs": [],
   "source": [
    "import numpy as np\n",
    "import pandas as pd\n",
    "import math\n",
    "import re\n",
    "\n",
    "import matplotlib.pyplot as plt\n",
    "import seaborn as sns\n",
    "import plotly.express as px\n",
    "from plotly.subplots import make_subplots\n",
    "import plotly.graph_objects as go"
   ]
  },
  {
   "cell_type": "markdown",
   "id": "12acf010-7dd0-43a4-ae39-bfd62a57ca6c",
   "metadata": {},
   "source": [
    "# E-Commerce Furniture Sales"
   ]
  },
  {
   "cell_type": "markdown",
   "id": "c31aba6e-8487-4ddb-9f4a-7d593bcc8ede",
   "metadata": {},
   "source": [
    "### Dataset Source:\n",
    "https://www.kaggle.com/datasets/kanchana1990/e-commerce-furniture-dataset-2024"
   ]
  },
  {
   "cell_type": "code",
   "execution_count": 2,
   "id": "136b3820-53b1-4cc6-bb87-a5ae1d8c1e99",
   "metadata": {},
   "outputs": [
    {
     "data": {
      "text/html": [
       "<div>\n",
       "<style scoped>\n",
       "    .dataframe tbody tr th:only-of-type {\n",
       "        vertical-align: middle;\n",
       "    }\n",
       "\n",
       "    .dataframe tbody tr th {\n",
       "        vertical-align: top;\n",
       "    }\n",
       "\n",
       "    .dataframe thead th {\n",
       "        text-align: right;\n",
       "    }\n",
       "</style>\n",
       "<table border=\"1\" class=\"dataframe\">\n",
       "  <thead>\n",
       "    <tr style=\"text-align: right;\">\n",
       "      <th></th>\n",
       "      <th>productTitle</th>\n",
       "      <th>originalPrice</th>\n",
       "      <th>price</th>\n",
       "      <th>sold</th>\n",
       "      <th>tagText</th>\n",
       "    </tr>\n",
       "  </thead>\n",
       "  <tbody>\n",
       "    <tr>\n",
       "      <th>0</th>\n",
       "      <td>Dresser For Bedroom With 9 Fabric Drawers Ward...</td>\n",
       "      <td>NaN</td>\n",
       "      <td>$46.79</td>\n",
       "      <td>600</td>\n",
       "      <td>Free shipping</td>\n",
       "    </tr>\n",
       "    <tr>\n",
       "      <th>1</th>\n",
       "      <td>Outdoor Conversation Set 4 Pieces Patio Furnit...</td>\n",
       "      <td>NaN</td>\n",
       "      <td>$169.72</td>\n",
       "      <td>0</td>\n",
       "      <td>Free shipping</td>\n",
       "    </tr>\n",
       "    <tr>\n",
       "      <th>2</th>\n",
       "      <td>Desser For Bedroom With 7 Fabric Drawers Organ...</td>\n",
       "      <td>$78.4</td>\n",
       "      <td>$39.46</td>\n",
       "      <td>7</td>\n",
       "      <td>Free shipping</td>\n",
       "    </tr>\n",
       "    <tr>\n",
       "      <th>3</th>\n",
       "      <td>Modern Accent Boucle Chair,Upholstered Tufted ...</td>\n",
       "      <td>NaN</td>\n",
       "      <td>$111.99</td>\n",
       "      <td>0</td>\n",
       "      <td>Free shipping</td>\n",
       "    </tr>\n",
       "    <tr>\n",
       "      <th>4</th>\n",
       "      <td>Small Unit Simple Computer Desk Household Wood...</td>\n",
       "      <td>$48.82</td>\n",
       "      <td>$21.37</td>\n",
       "      <td>1</td>\n",
       "      <td>Free shipping</td>\n",
       "    </tr>\n",
       "    <tr>\n",
       "      <th>5</th>\n",
       "      <td>3 Pieces Patio Furniture Set, Outdoor Swivel G...</td>\n",
       "      <td>$1,294.04</td>\n",
       "      <td>$123.4</td>\n",
       "      <td>53</td>\n",
       "      <td>Free shipping</td>\n",
       "    </tr>\n",
       "    <tr>\n",
       "      <th>6</th>\n",
       "      <td>5-Piece Patio Furniture Set Outdoor Couch with...</td>\n",
       "      <td>NaN</td>\n",
       "      <td>$198.31</td>\n",
       "      <td>1</td>\n",
       "      <td>Free shipping</td>\n",
       "    </tr>\n",
       "    <tr>\n",
       "      <th>7</th>\n",
       "      <td>Living Room Furniture, Modern 3-Piece Includin...</td>\n",
       "      <td>$1,474.17</td>\n",
       "      <td>$734.58</td>\n",
       "      <td>5</td>\n",
       "      <td>Free shipping</td>\n",
       "    </tr>\n",
       "    <tr>\n",
       "      <th>8</th>\n",
       "      <td>TV Stand Dresser For Bedroom With 5 Fabric Dra...</td>\n",
       "      <td>NaN</td>\n",
       "      <td>$43.96</td>\n",
       "      <td>3</td>\n",
       "      <td>NaN</td>\n",
       "    </tr>\n",
       "    <tr>\n",
       "      <th>9</th>\n",
       "      <td>Outdoor Furniture Set 3 Pieces Wicker Patio Fu...</td>\n",
       "      <td>NaN</td>\n",
       "      <td>$233.3</td>\n",
       "      <td>0</td>\n",
       "      <td>Free shipping</td>\n",
       "    </tr>\n",
       "    <tr>\n",
       "      <th>10</th>\n",
       "      <td>4 Pieces Patio Furniture Set, Outdoor Rattan W...</td>\n",
       "      <td>NaN</td>\n",
       "      <td>$244.17</td>\n",
       "      <td>1</td>\n",
       "      <td>Free shipping</td>\n",
       "    </tr>\n",
       "    <tr>\n",
       "      <th>11</th>\n",
       "      <td>Jela kids couch 14PCs luxury, floor sofa modul...</td>\n",
       "      <td>NaN</td>\n",
       "      <td>$238.18</td>\n",
       "      <td>0</td>\n",
       "      <td>Free shipping</td>\n",
       "    </tr>\n",
       "    <tr>\n",
       "      <th>12</th>\n",
       "      <td>3/4/5 Piece Boho Outdoor Patio Furniture Sets ...</td>\n",
       "      <td>NaN</td>\n",
       "      <td>$495.8</td>\n",
       "      <td>0</td>\n",
       "      <td>Free shipping</td>\n",
       "    </tr>\n",
       "    <tr>\n",
       "      <th>13</th>\n",
       "      <td>3 PCS Patio Conversation Set, Solid Eucalyptus...</td>\n",
       "      <td>NaN</td>\n",
       "      <td>$117.66</td>\n",
       "      <td>0</td>\n",
       "      <td>Free shipping</td>\n",
       "    </tr>\n",
       "    <tr>\n",
       "      <th>14</th>\n",
       "      <td>Modern luxury lounge chair home furniture hote...</td>\n",
       "      <td>NaN</td>\n",
       "      <td>$978.88</td>\n",
       "      <td>0</td>\n",
       "      <td>Free shipping</td>\n",
       "    </tr>\n",
       "  </tbody>\n",
       "</table>\n",
       "</div>"
      ],
      "text/plain": [
       "                                         productTitle originalPrice    price  \\\n",
       "0   Dresser For Bedroom With 9 Fabric Drawers Ward...           NaN   $46.79   \n",
       "1   Outdoor Conversation Set 4 Pieces Patio Furnit...           NaN  $169.72   \n",
       "2   Desser For Bedroom With 7 Fabric Drawers Organ...         $78.4   $39.46   \n",
       "3   Modern Accent Boucle Chair,Upholstered Tufted ...           NaN  $111.99   \n",
       "4   Small Unit Simple Computer Desk Household Wood...        $48.82   $21.37   \n",
       "5   3 Pieces Patio Furniture Set, Outdoor Swivel G...     $1,294.04   $123.4   \n",
       "6   5-Piece Patio Furniture Set Outdoor Couch with...           NaN  $198.31   \n",
       "7   Living Room Furniture, Modern 3-Piece Includin...     $1,474.17  $734.58   \n",
       "8   TV Stand Dresser For Bedroom With 5 Fabric Dra...           NaN   $43.96   \n",
       "9   Outdoor Furniture Set 3 Pieces Wicker Patio Fu...           NaN   $233.3   \n",
       "10  4 Pieces Patio Furniture Set, Outdoor Rattan W...           NaN  $244.17   \n",
       "11  Jela kids couch 14PCs luxury, floor sofa modul...           NaN  $238.18   \n",
       "12  3/4/5 Piece Boho Outdoor Patio Furniture Sets ...           NaN   $495.8   \n",
       "13  3 PCS Patio Conversation Set, Solid Eucalyptus...           NaN  $117.66   \n",
       "14  Modern luxury lounge chair home furniture hote...           NaN  $978.88   \n",
       "\n",
       "    sold        tagText  \n",
       "0    600  Free shipping  \n",
       "1      0  Free shipping  \n",
       "2      7  Free shipping  \n",
       "3      0  Free shipping  \n",
       "4      1  Free shipping  \n",
       "5     53  Free shipping  \n",
       "6      1  Free shipping  \n",
       "7      5  Free shipping  \n",
       "8      3            NaN  \n",
       "9      0  Free shipping  \n",
       "10     1  Free shipping  \n",
       "11     0  Free shipping  \n",
       "12     0  Free shipping  \n",
       "13     0  Free shipping  \n",
       "14     0  Free shipping  "
      ]
     },
     "execution_count": 2,
     "metadata": {},
     "output_type": "execute_result"
    }
   ],
   "source": [
    "df = pd.read_csv(r\"C:\\Users\\Public\\MyData\\ecommerce_furniture_dataset_2024.csv\")\n",
    "df.head(15)"
   ]
  },
  {
   "cell_type": "markdown",
   "id": "49c7fbdb-d4cc-4751-89ab-6f1684df2f7b",
   "metadata": {},
   "source": [
    "### Data Exploration and Cleaning"
   ]
  },
  {
   "cell_type": "code",
   "execution_count": 3,
   "id": "b99d59cd-afa3-454a-aa95-4b8017267bbe",
   "metadata": {},
   "outputs": [
    {
     "data": {
      "text/html": [
       "<div>\n",
       "<style scoped>\n",
       "    .dataframe tbody tr th:only-of-type {\n",
       "        vertical-align: middle;\n",
       "    }\n",
       "\n",
       "    .dataframe tbody tr th {\n",
       "        vertical-align: top;\n",
       "    }\n",
       "\n",
       "    .dataframe thead th {\n",
       "        text-align: right;\n",
       "    }\n",
       "</style>\n",
       "<table border=\"1\" class=\"dataframe\">\n",
       "  <thead>\n",
       "    <tr style=\"text-align: right;\">\n",
       "      <th></th>\n",
       "      <th>Furniture Product</th>\n",
       "      <th>Original Price ($)</th>\n",
       "      <th>Price ($)</th>\n",
       "      <th>Units Sold</th>\n",
       "      <th>Shipping ($)</th>\n",
       "    </tr>\n",
       "  </thead>\n",
       "  <tbody>\n",
       "    <tr>\n",
       "      <th>0</th>\n",
       "      <td>Dresser For Bedroom With 9 Fabric Drawers Ward...</td>\n",
       "      <td>NaN</td>\n",
       "      <td>$46.79</td>\n",
       "      <td>600</td>\n",
       "      <td>Free shipping</td>\n",
       "    </tr>\n",
       "    <tr>\n",
       "      <th>1</th>\n",
       "      <td>Outdoor Conversation Set 4 Pieces Patio Furnit...</td>\n",
       "      <td>NaN</td>\n",
       "      <td>$169.72</td>\n",
       "      <td>0</td>\n",
       "      <td>Free shipping</td>\n",
       "    </tr>\n",
       "    <tr>\n",
       "      <th>2</th>\n",
       "      <td>Desser For Bedroom With 7 Fabric Drawers Organ...</td>\n",
       "      <td>$78.4</td>\n",
       "      <td>$39.46</td>\n",
       "      <td>7</td>\n",
       "      <td>Free shipping</td>\n",
       "    </tr>\n",
       "    <tr>\n",
       "      <th>3</th>\n",
       "      <td>Modern Accent Boucle Chair,Upholstered Tufted ...</td>\n",
       "      <td>NaN</td>\n",
       "      <td>$111.99</td>\n",
       "      <td>0</td>\n",
       "      <td>Free shipping</td>\n",
       "    </tr>\n",
       "    <tr>\n",
       "      <th>4</th>\n",
       "      <td>Small Unit Simple Computer Desk Household Wood...</td>\n",
       "      <td>$48.82</td>\n",
       "      <td>$21.37</td>\n",
       "      <td>1</td>\n",
       "      <td>Free shipping</td>\n",
       "    </tr>\n",
       "  </tbody>\n",
       "</table>\n",
       "</div>"
      ],
      "text/plain": [
       "                                   Furniture Product Original Price ($)  \\\n",
       "0  Dresser For Bedroom With 9 Fabric Drawers Ward...                NaN   \n",
       "1  Outdoor Conversation Set 4 Pieces Patio Furnit...                NaN   \n",
       "2  Desser For Bedroom With 7 Fabric Drawers Organ...              $78.4   \n",
       "3  Modern Accent Boucle Chair,Upholstered Tufted ...                NaN   \n",
       "4  Small Unit Simple Computer Desk Household Wood...             $48.82   \n",
       "\n",
       "  Price ($)  Units Sold   Shipping ($)  \n",
       "0    $46.79         600  Free shipping  \n",
       "1   $169.72           0  Free shipping  \n",
       "2    $39.46           7  Free shipping  \n",
       "3   $111.99           0  Free shipping  \n",
       "4    $21.37           1  Free shipping  "
      ]
     },
     "execution_count": 3,
     "metadata": {},
     "output_type": "execute_result"
    }
   ],
   "source": [
    "df = df.rename(columns={\"productTitle\": \"Furniture Product\", \"originalPrice\": \"Original Price ($)\", \"price\": \"Price ($)\", \"sold\": \"Units Sold\", \"tagText\": \"Shipping ($)\"})\n",
    "df.head() # columns are renamed for ease of interpretation"
   ]
  },
  {
   "cell_type": "code",
   "execution_count": 452,
   "id": "c4e7b6c7-29d5-413a-a81e-5ee3fedd4c1d",
   "metadata": {},
   "outputs": [
    {
     "name": "stdout",
     "output_type": "stream",
     "text": [
      "Shape of dataframe: (2000, 5)\n"
     ]
    }
   ],
   "source": [
    "print(f\"Shape of dataframe: {df.shape}\")"
   ]
  },
  {
   "cell_type": "code",
   "execution_count": 454,
   "id": "57792c01-1a13-4993-9541-c063c80f3c1f",
   "metadata": {},
   "outputs": [
    {
     "name": "stdout",
     "output_type": "stream",
     "text": [
      "<class 'pandas.core.frame.DataFrame'>\n",
      "RangeIndex: 2000 entries, 0 to 1999\n",
      "Data columns (total 5 columns):\n",
      " #   Column              Non-Null Count  Dtype \n",
      "---  ------              --------------  ----- \n",
      " 0   Furniture Product   2000 non-null   object\n",
      " 1   Original Price ($)  487 non-null    object\n",
      " 2   Price ($)           2000 non-null   object\n",
      " 3   Units Sold          2000 non-null   int64 \n",
      " 4   Shipping ($)        1997 non-null   object\n",
      "dtypes: int64(1), object(4)\n",
      "memory usage: 78.3+ KB\n"
     ]
    }
   ],
   "source": [
    "df.info()\n",
    "# We see that the price columns contain strings\n",
    "# however, want to be able to work with the price columns as floats"
   ]
  },
  {
   "cell_type": "code",
   "execution_count": 456,
   "id": "46539f4e-f0a5-4f66-8aed-cfe5d4b49322",
   "metadata": {},
   "outputs": [
    {
     "data": {
      "text/plain": [
       "Furniture Product        0\n",
       "Original Price ($)    1513\n",
       "Price ($)                0\n",
       "Units Sold               0\n",
       "Shipping ($)             3\n",
       "dtype: int64"
      ]
     },
     "execution_count": 456,
     "metadata": {},
     "output_type": "execute_result"
    }
   ],
   "source": [
    "df.isnull().sum()"
   ]
  },
  {
   "cell_type": "code",
   "execution_count": 458,
   "id": "a83f9513-68da-4a0b-a4e7-75db21f73178",
   "metadata": {},
   "outputs": [
    {
     "data": {
      "text/html": [
       "<div>\n",
       "<style scoped>\n",
       "    .dataframe tbody tr th:only-of-type {\n",
       "        vertical-align: middle;\n",
       "    }\n",
       "\n",
       "    .dataframe tbody tr th {\n",
       "        vertical-align: top;\n",
       "    }\n",
       "\n",
       "    .dataframe thead th {\n",
       "        text-align: right;\n",
       "    }\n",
       "</style>\n",
       "<table border=\"1\" class=\"dataframe\">\n",
       "  <thead>\n",
       "    <tr style=\"text-align: right;\">\n",
       "      <th></th>\n",
       "      <th>Furniture Product</th>\n",
       "      <th>Original Price ($)</th>\n",
       "      <th>Price ($)</th>\n",
       "      <th>Units Sold</th>\n",
       "      <th>Shipping ($)</th>\n",
       "    </tr>\n",
       "  </thead>\n",
       "  <tbody>\n",
       "    <tr>\n",
       "      <th>2</th>\n",
       "      <td>Desser For Bedroom With 7 Fabric Drawers Organ...</td>\n",
       "      <td>$78.4</td>\n",
       "      <td>$39.46</td>\n",
       "      <td>7</td>\n",
       "      <td>Free shipping</td>\n",
       "    </tr>\n",
       "    <tr>\n",
       "      <th>4</th>\n",
       "      <td>Small Unit Simple Computer Desk Household Wood...</td>\n",
       "      <td>$48.82</td>\n",
       "      <td>$21.37</td>\n",
       "      <td>1</td>\n",
       "      <td>Free shipping</td>\n",
       "    </tr>\n",
       "    <tr>\n",
       "      <th>5</th>\n",
       "      <td>3 Pieces Patio Furniture Set, Outdoor Swivel G...</td>\n",
       "      <td>$1,294.04</td>\n",
       "      <td>$123.4</td>\n",
       "      <td>53</td>\n",
       "      <td>Free shipping</td>\n",
       "    </tr>\n",
       "    <tr>\n",
       "      <th>7</th>\n",
       "      <td>Living Room Furniture, Modern 3-Piece Includin...</td>\n",
       "      <td>$1,474.17</td>\n",
       "      <td>$734.58</td>\n",
       "      <td>5</td>\n",
       "      <td>Free shipping</td>\n",
       "    </tr>\n",
       "    <tr>\n",
       "      <th>20</th>\n",
       "      <td>7-piece patio furniture set modular wicker out...</td>\n",
       "      <td>$671.47</td>\n",
       "      <td>$331.24</td>\n",
       "      <td>39</td>\n",
       "      <td>Free shipping</td>\n",
       "    </tr>\n",
       "    <tr>\n",
       "      <th>...</th>\n",
       "      <td>...</td>\n",
       "      <td>...</td>\n",
       "      <td>...</td>\n",
       "      <td>...</td>\n",
       "      <td>...</td>\n",
       "    </tr>\n",
       "    <tr>\n",
       "      <th>1938</th>\n",
       "      <td>5 Piece Patio Conversation Set, Wicker Rattan ...</td>\n",
       "      <td>$392.22</td>\n",
       "      <td>$232.83</td>\n",
       "      <td>5</td>\n",
       "      <td>Free shipping</td>\n",
       "    </tr>\n",
       "    <tr>\n",
       "      <th>1948</th>\n",
       "      <td>Vanity Table Set with Mirror 2 Storage Drawer ...</td>\n",
       "      <td>$135.02</td>\n",
       "      <td>$102.02</td>\n",
       "      <td>1</td>\n",
       "      <td>Free shipping</td>\n",
       "    </tr>\n",
       "    <tr>\n",
       "      <th>1955</th>\n",
       "      <td>White Vanity Desk with Mirror, Lights and Char...</td>\n",
       "      <td>$950.85</td>\n",
       "      <td>$188.67</td>\n",
       "      <td>11</td>\n",
       "      <td>Free shipping</td>\n",
       "    </tr>\n",
       "    <tr>\n",
       "      <th>1964</th>\n",
       "      <td>PP Folding Stools Portable Lightweight Chairs ...</td>\n",
       "      <td>$7.27</td>\n",
       "      <td>$1.27</td>\n",
       "      <td>9</td>\n",
       "      <td>Free shipping</td>\n",
       "    </tr>\n",
       "    <tr>\n",
       "      <th>1983</th>\n",
       "      <td>Folding Chair And Table Acrylic Transparent Di...</td>\n",
       "      <td>$76.93</td>\n",
       "      <td>$39.04</td>\n",
       "      <td>0</td>\n",
       "      <td>Free shipping</td>\n",
       "    </tr>\n",
       "  </tbody>\n",
       "</table>\n",
       "<p>487 rows × 5 columns</p>\n",
       "</div>"
      ],
      "text/plain": [
       "                                      Furniture Product Original Price ($)  \\\n",
       "2     Desser For Bedroom With 7 Fabric Drawers Organ...              $78.4   \n",
       "4     Small Unit Simple Computer Desk Household Wood...             $48.82   \n",
       "5     3 Pieces Patio Furniture Set, Outdoor Swivel G...          $1,294.04   \n",
       "7     Living Room Furniture, Modern 3-Piece Includin...          $1,474.17   \n",
       "20    7-piece patio furniture set modular wicker out...            $671.47   \n",
       "...                                                 ...                ...   \n",
       "1938  5 Piece Patio Conversation Set, Wicker Rattan ...            $392.22   \n",
       "1948  Vanity Table Set with Mirror 2 Storage Drawer ...            $135.02   \n",
       "1955  White Vanity Desk with Mirror, Lights and Char...            $950.85   \n",
       "1964  PP Folding Stools Portable Lightweight Chairs ...              $7.27   \n",
       "1983  Folding Chair And Table Acrylic Transparent Di...             $76.93   \n",
       "\n",
       "     Price ($)  Units Sold   Shipping ($)  \n",
       "2       $39.46           7  Free shipping  \n",
       "4       $21.37           1  Free shipping  \n",
       "5       $123.4          53  Free shipping  \n",
       "7      $734.58           5  Free shipping  \n",
       "20     $331.24          39  Free shipping  \n",
       "...        ...         ...            ...  \n",
       "1938   $232.83           5  Free shipping  \n",
       "1948   $102.02           1  Free shipping  \n",
       "1955   $188.67          11  Free shipping  \n",
       "1964     $1.27           9  Free shipping  \n",
       "1983    $39.04           0  Free shipping  \n",
       "\n",
       "[487 rows x 5 columns]"
      ]
     },
     "execution_count": 458,
     "metadata": {},
     "output_type": "execute_result"
    }
   ],
   "source": [
    "# Creating a small dataframe containing all the rows where 'Original Price ($)' is not null\n",
    "df_original_price = df[df[\"Original Price ($)\"].notnull()] # alternative: .notna()\n",
    "df_original_price"
   ]
  },
  {
   "cell_type": "code",
   "execution_count": 460,
   "id": "d1c1f61a-5b1c-4e2e-8096-93ed13c745c0",
   "metadata": {},
   "outputs": [
    {
     "name": "stdout",
     "output_type": "stream",
     "text": [
      "(487, 5)\n"
     ]
    },
    {
     "data": {
      "text/plain": [
       "Furniture Product     0\n",
       "Original Price ($)    0\n",
       "Price ($)             0\n",
       "Units Sold            0\n",
       "Shipping ($)          0\n",
       "dtype: int64"
      ]
     },
     "execution_count": 460,
     "metadata": {},
     "output_type": "execute_result"
    }
   ],
   "source": [
    "print(df_original_price.shape)\n",
    "df_original_price.isnull().sum() # no nulls"
   ]
  },
  {
   "cell_type": "code",
   "execution_count": 462,
   "id": "10b7219e-f463-4463-a488-a72d664557ef",
   "metadata": {},
   "outputs": [],
   "source": [
    "def clean_monetary(s):\n",
    "    \"\"\"This function will be used for string cleaning of the\n",
    "    'Original Price ($)', 'Price ($)' and 'Shipping ($)' columns.\"\"\"\n",
    "    cleaned_string = re.sub(r'[^0-9.]', '', s) # regex to remove characters that aren't digits or period .\n",
    "    try:\n",
    "        return float(cleaned_string)\n",
    "    except ValueError:\n",
    "        return 0.0   # if string has no digits or periods (e.g., \"Free shipping\"), return the float 0.0"
   ]
  },
  {
   "cell_type": "code",
   "execution_count": 464,
   "id": "f988ae46-197a-49e0-ab3a-6d723866a968",
   "metadata": {},
   "outputs": [
    {
     "data": {
      "text/html": [
       "<div>\n",
       "<style scoped>\n",
       "    .dataframe tbody tr th:only-of-type {\n",
       "        vertical-align: middle;\n",
       "    }\n",
       "\n",
       "    .dataframe tbody tr th {\n",
       "        vertical-align: top;\n",
       "    }\n",
       "\n",
       "    .dataframe thead th {\n",
       "        text-align: right;\n",
       "    }\n",
       "</style>\n",
       "<table border=\"1\" class=\"dataframe\">\n",
       "  <thead>\n",
       "    <tr style=\"text-align: right;\">\n",
       "      <th></th>\n",
       "      <th>Furniture Product</th>\n",
       "      <th>Original Price ($)</th>\n",
       "      <th>Price ($)</th>\n",
       "      <th>Units Sold</th>\n",
       "      <th>Shipping ($)</th>\n",
       "    </tr>\n",
       "  </thead>\n",
       "  <tbody>\n",
       "    <tr>\n",
       "      <th>2</th>\n",
       "      <td>Desser For Bedroom With 7 Fabric Drawers Organ...</td>\n",
       "      <td>78.4</td>\n",
       "      <td>39.46</td>\n",
       "      <td>7</td>\n",
       "      <td>0.0</td>\n",
       "    </tr>\n",
       "    <tr>\n",
       "      <th>4</th>\n",
       "      <td>Small Unit Simple Computer Desk Household Wood...</td>\n",
       "      <td>48.82</td>\n",
       "      <td>21.37</td>\n",
       "      <td>1</td>\n",
       "      <td>0.0</td>\n",
       "    </tr>\n",
       "    <tr>\n",
       "      <th>5</th>\n",
       "      <td>3 Pieces Patio Furniture Set, Outdoor Swivel G...</td>\n",
       "      <td>1294.04</td>\n",
       "      <td>123.4</td>\n",
       "      <td>53</td>\n",
       "      <td>0.0</td>\n",
       "    </tr>\n",
       "    <tr>\n",
       "      <th>7</th>\n",
       "      <td>Living Room Furniture, Modern 3-Piece Includin...</td>\n",
       "      <td>1474.17</td>\n",
       "      <td>734.58</td>\n",
       "      <td>5</td>\n",
       "      <td>0.0</td>\n",
       "    </tr>\n",
       "    <tr>\n",
       "      <th>20</th>\n",
       "      <td>7-piece patio furniture set modular wicker out...</td>\n",
       "      <td>671.47</td>\n",
       "      <td>331.24</td>\n",
       "      <td>39</td>\n",
       "      <td>0.0</td>\n",
       "    </tr>\n",
       "  </tbody>\n",
       "</table>\n",
       "</div>"
      ],
      "text/plain": [
       "                                    Furniture Product Original Price ($)  \\\n",
       "2   Desser For Bedroom With 7 Fabric Drawers Organ...               78.4   \n",
       "4   Small Unit Simple Computer Desk Household Wood...              48.82   \n",
       "5   3 Pieces Patio Furniture Set, Outdoor Swivel G...            1294.04   \n",
       "7   Living Room Furniture, Modern 3-Piece Includin...            1474.17   \n",
       "20  7-piece patio furniture set modular wicker out...             671.47   \n",
       "\n",
       "   Price ($)  Units Sold Shipping ($)  \n",
       "2      39.46           7          0.0  \n",
       "4      21.37           1          0.0  \n",
       "5      123.4          53          0.0  \n",
       "7     734.58           5          0.0  \n",
       "20    331.24          39          0.0  "
      ]
     },
     "execution_count": 464,
     "metadata": {},
     "output_type": "execute_result"
    }
   ],
   "source": [
    "# cleaning monetary columns for df_original_price\n",
    "cols_to_clean = [\"Original Price ($)\", \"Price ($)\", \"Shipping ($)\"]\n",
    "for c in cols_to_clean:\n",
    "    df_original_price.loc[:, c] = df_original_price[c].apply(clean_monetary)\n",
    "\n",
    "df_original_price.head()"
   ]
  },
  {
   "cell_type": "code",
   "execution_count": 466,
   "id": "dbc9b8e7-b422-476e-9970-5a640404ff68",
   "metadata": {},
   "outputs": [
    {
     "data": {
      "application/vnd.plotly.v1+json": {
       "config": {
        "plotlyServerURL": "https://plot.ly"
       },
       "data": [
        {
         "marker": {
          "color": "cyan"
         },
         "nbinsx": 120,
         "showlegend": false,
         "type": "histogram",
         "x": [
          78.4,
          48.82,
          1294.04,
          1474.17,
          671.47,
          56.58,
          98.79,
          86.61,
          15.71,
          82.27,
          251.56,
          736.43,
          665.74,
          407.85,
          313.69,
          72.43,
          983.42,
          98.79,
          633.27,
          86.61,
          355.38,
          78.4,
          82.27,
          108.32,
          1506.07,
          449.85,
          208.94,
          213.67,
          355.38,
          4.49,
          736.43,
          665.74,
          244.15,
          303.84,
          593.72,
          270.77,
          109.89,
          67.36,
          109.92,
          181.98,
          486.32,
          1111.68,
          369.77,
          314.56,
          13.35,
          377.01,
          681.72,
          47.73,
          247.81,
          425.67,
          167.87,
          249.6,
          108.54,
          1474.17,
          38.01,
          591.23,
          254.96,
          580.46,
          375.5,
          593.19,
          1025.04,
          233.9,
          112.73,
          270.77,
          18.89,
          679.94,
          805.33,
          27.17,
          1484.31,
          1076.22,
          356.88,
          656.96,
          931.46,
          198.01,
          2497.35,
          465.93,
          53.4,
          369.77,
          55.84,
          66.17,
          105.14,
          76.28,
          23.74,
          20.29,
          76.28,
          76.28,
          832.78,
          18.12,
          70.57,
          44.77,
          47.42,
          31.18,
          92.35,
          10.29,
          107.72,
          1124.88,
          23.26,
          15.4,
          117.51,
          16.05,
          35.67,
          2559.3,
          35.03,
          30.07,
          36.52,
          52.34,
          14.31,
          13.95,
          24.91,
          55.77,
          41.84,
          34.41,
          20.95,
          21.24,
          12.85,
          22.17,
          31.24,
          18.37,
          20.79,
          248.93,
          4.94,
          35.68,
          26.39,
          22.73,
          1154.41,
          48.79,
          74.05,
          53.87,
          21.89,
          2487.65,
          26.22,
          688.21,
          18.32,
          49.35,
          102.04,
          377.24,
          396.09,
          164.43,
          101.92,
          352.17,
          282.38,
          67.47,
          737.32,
          457.33,
          380.05,
          307.3,
          137.05,
          2985.39,
          991.56,
          14.13,
          944.53,
          147.79,
          764.64,
          562.95,
          329.58,
          77.12,
          345.88,
          1323.7,
          950.85,
          114.27,
          196.39,
          268.3,
          60.68,
          64.84,
          27.78,
          1075.56,
          63.21,
          13.67,
          183.29,
          103.62,
          322.47,
          60.26,
          108.54,
          10.95,
          106.66,
          94.03,
          424.33,
          204.02,
          72,
          58.86,
          363.64,
          411.94,
          136.53,
          744.64,
          116.35,
          33.34,
          369.84,
          57.51,
          32.07,
          100.58,
          144.96,
          47.19,
          32.72,
          158.71,
          47.9,
          176.27,
          10.82,
          158.82,
          21.69,
          591.77,
          26.92,
          313.14,
          14.13,
          482.4,
          30.53,
          131.54,
          351.25,
          449.93,
          33.2,
          51.8,
          206.95,
          1411.9,
          104.72,
          10.59,
          455.45,
          119.48,
          580.54,
          660.11,
          198.12,
          87.19,
          45.71,
          102.4,
          105.68,
          90.84,
          80.48,
          25.29,
          55.22,
          1620.8,
          468.01,
          392.95,
          131.36,
          112.27,
          673.24,
          85.05,
          17.87,
          16.49,
          24.12,
          135.02,
          64.68,
          72.19,
          125.6,
          14.62,
          109.65,
          809.32,
          164.08,
          13.37,
          203.59,
          132.06,
          272.9,
          7.47,
          813.07,
          7.27,
          624.01,
          65.04,
          46.45,
          619,
          156.95,
          326.38,
          11.85,
          917.39,
          7.9,
          62.72,
          19.37,
          28.58,
          102.24,
          384.58,
          127.67,
          119.68,
          319.43,
          124.65,
          693.96,
          32.5,
          2760.04,
          12.01,
          1632.54,
          272.68,
          37.21,
          155.48,
          46.45,
          67.68,
          395.29,
          434.16,
          375.5,
          74.6,
          59.52,
          86.67,
          17.9,
          101.95,
          133.64,
          46.45,
          611.82,
          360.47,
          54.15,
          109.64,
          176.67,
          180.32,
          709.46,
          150.55,
          367.78,
          109.77,
          141.33,
          11.59,
          1093.19,
          123.45,
          7.68,
          38.97,
          14.14,
          11.58,
          754.72,
          389.52,
          22.54,
          47.7,
          26.56,
          88.31,
          10.76,
          141.01,
          250.27,
          87.12,
          7.87,
          66.24,
          534.03,
          703.51,
          36.12,
          67.52,
          14.82,
          9.93,
          64.4,
          70.32,
          37.14,
          52.34,
          37.26,
          17.71,
          296.4,
          370.75,
          365.59,
          42.37,
          86.1,
          3265.13,
          101.74,
          12.08,
          17.71,
          140.63,
          236.96,
          236.96,
          17.46,
          5.94,
          61.32,
          455.74,
          10.45,
          30.18,
          97.02,
          437.19,
          280.03,
          16.55,
          608.66,
          102.04,
          290.55,
          7.76,
          291.02,
          446.13,
          304.13,
          632.34,
          36.64,
          52.47,
          65.36,
          8.65,
          108.02,
          46.45,
          473.78,
          10.75,
          98.72,
          21.64,
          72.76,
          14.85,
          218.4,
          11.15,
          54.65,
          5.53,
          3.86,
          53.97,
          30.19,
          13.86,
          3.63,
          9.78,
          25.95,
          13.77,
          265.2,
          64.65,
          37.19,
          67.96,
          281.6,
          10.28,
          3.75,
          11.76,
          406.59,
          74.6,
          80.77,
          26.63,
          21.99,
          49.6,
          31.27,
          92.17,
          110.6,
          38.13,
          16.76,
          117.11,
          287.82,
          134.81,
          48.22,
          7.7,
          36.48,
          49.84,
          65.36,
          22.21,
          129.19,
          57.14,
          136.92,
          21.11,
          13.52,
          24.22,
          15.25,
          11.45,
          53.65,
          139.36,
          13.76,
          15.02,
          68.88,
          99.99,
          12.74,
          81.2,
          125.48,
          26.92,
          46.08,
          104.98,
          35.23,
          13.46,
          8.86,
          19.44,
          9.74,
          762.6,
          75.15,
          13.15,
          7.78,
          15.01,
          74.71,
          21.77,
          119.65,
          37.58,
          105.38,
          66.85,
          131.32,
          81.46,
          50.71,
          30.81,
          35.57,
          101.09,
          83.8,
          9.1,
          26.37,
          26.48,
          25.02,
          31.47,
          135.92,
          8.82,
          12.81,
          56.14,
          87.69,
          8.37,
          107.72,
          71.43,
          34.16,
          54.15,
          1655.19,
          280.67,
          449.85,
          46.08,
          1291.24,
          427.16,
          423.55,
          314.56,
          1632.54,
          1239.31,
          392.22,
          135.02,
          950.85,
          7.27,
          76.93
         ],
         "xaxis": "x",
         "yaxis": "y"
        },
        {
         "marker": {
          "color": "#ffa6c9"
         },
         "nbinsx": 80,
         "showlegend": false,
         "type": "histogram",
         "x": [
          39.46,
          21.37,
          123.4,
          734.58,
          331.24,
          26.03,
          49.39,
          48.56,
          9.71,
          40.13,
          87.08,
          435.86,
          393.44,
          279.49,
          175.94,
          31.71,
          584.05,
          49.39,
          342.3,
          48.56,
          200.12,
          39.46,
          40.13,
          58.99,
          897.64,
          263.91,
          115.19,
          111.74,
          207.23,
          1.99,
          435.86,
          393.44,
          135.61,
          100.34,
          350.23,
          156.46,
          61.61,
          26.79,
          55.63,
          84.99,
          237.16,
          549.84,
          208.46,
          151.28,
          10.85,
          212.67,
          334.86,
          26.76,
          142.68,
          249.4,
          77.94,
          143.76,
          60.86,
          734.58,
          38.01,
          289.61,
          146.97,
          342.28,
          181.75,
          290.59,
          506.52,
          57.15,
          57.2,
          156.46,
          4.39,
          673.94,
          396.67,
          27.17,
          884.59,
          801.16,
          208.13,
          388.18,
          534.25,
          112.81,
          493.47,
          268.74,
          53.4,
          208.46,
          21.92,
          34.68,
          57.09,
          35.19,
          8.25,
          11.37,
          42.77,
          36.77,
          493.67,
          12.12,
          32.81,
          25.1,
          17.71,
          14.98,
          45.78,
          10.29,
          60.39,
          673.43,
          13.8,
          15.4,
          57.46,
          13.55,
          29.67,
          1529.58,
          29.03,
          24.07,
          34.02,
          29.34,
          8.31,
          7.95,
          18.91,
          25.27,
          35.84,
          34.41,
          16.45,
          15.24,
          8.35,
          16.17,
          31.24,
          18.37,
          14.79,
          185.2,
          0.99,
          33.18,
          20.39,
          18.23,
          686.65,
          21.43,
          42.93,
          26.32,
          21.89,
          491.53,
          14.7,
          386.28,
          5,
          26.11,
          31.75,
          223.85,
          192.04,
          92.66,
          54.64,
          209.8,
          163.43,
          27.73,
          436.39,
          85.47,
          207.53,
          147.65,
          44.71,
          292.54,
          192.31,
          7.92,
          470.77,
          73.81,
          376.32,
          333.27,
          155.49,
          32.56,
          180.77,
          788.22,
          188.67,
          36.28,
          111.83,
          128.15,
          24.34,
          36.35,
          7.89,
          209.11,
          29.44,
          7.67,
          85.64,
          47.31,
          187.48,
          33.79,
          56.36,
          0.99,
          47.33,
          50.42,
          248.6,
          96.01,
          40.08,
          23.43,
          215.68,
          199.97,
          55.57,
          366.32,
          63.81,
          10.67,
          178.92,
          33.11,
          12.28,
          54.35,
          66.68,
          26.46,
          13.64,
          73.35,
          29.45,
          83.9,
          4.82,
          67.38,
          15.69,
          349.06,
          9.07,
          181.88,
          7.92,
          236.7,
          10.79,
          58.45,
          169.62,
          226.97,
          12.61,
          22.49,
          118.17,
          841.14,
          44.27,
          0.99,
          197.9,
          53.74,
          288.77,
          390.07,
          93.06,
          35.12,
          18.69,
          56.94,
          37.6,
          36.65,
          28.28,
          8.18,
          24.96,
          318.16,
          274.81,
          190.47,
          59.68,
          35.92,
          335.12,
          40.78,
          8.04,
          13.99,
          7.27,
          102.02,
          30.84,
          35.98,
          70.42,
          8.62,
          52.12,
          350.1,
          54.71,
          7.37,
          95.79,
          74.04,
          133.18,
          7.47,
          161.11,
          1.27,
          369.91,
          29.12,
          21.05,
          563.48,
          52.07,
          160.69,
          6.64,
          177.48,
          1.34,
          33.66,
          5.49,
          27.08,
          36.33,
          190.14,
          65.58,
          65.81,
          134.55,
          44.62,
          410.38,
          26.5,
          546.01,
          6.01,
          320.51,
          152.7,
          23.4,
          87.29,
          19.55,
          31.95,
          200.1,
          211.08,
          181.75,
          41.83,
          33.37,
          38.2,
          4.62,
          49.47,
          74.93,
          26.04,
          365.59,
          66.09,
          21.08,
          55.47,
          100,
          93.18,
          265.09,
          78.41,
          214.67,
          53.38,
          79.24,
          0.99,
          649.92,
          44.18,
          1.68,
          32.97,
          14.14,
          5.58,
          446.83,
          227.71,
          9.78,
          21.94,
          8.34,
          82.31,
          4.76,
          73.06,
          144.16,
          37.56,
          1.87,
          26.46,
          234.32,
          345.76,
          15.56,
          26.41,
          2.31,
          5.89,
          30.11,
          64.32,
          21.5,
          29.34,
          31.26,
          11.71,
          171.84,
          179.38,
          176.79,
          23.76,
          41.36,
          647.03,
          58.09,
          6.08,
          5.43,
          78.85,
          136.18,
          136.18,
          3.79,
          0.99,
          28.38,
          267.44,
          10.45,
          11.2,
          47.01,
          212.6,
          162.02,
          10.55,
          359.2,
          30.73,
          168.33,
          1.76,
          172.11,
          191.8,
          153.6,
          373.4,
          20.54,
          25.49,
          36.65,
          7.15,
          60.56,
          20.04,
          279.77,
          0.99,
          47.31,
          6.55,
          42.16,
          8.85,
          125.04,
          5.15,
          52.15,
          0.99,
          0.99,
          24.64,
          27.69,
          7.86,
          3.63,
          3.78,
          19.95,
          7.77,
          157.62,
          28.91,
          37.19,
          26.62,
          148.88,
          4.28,
          3.75,
          5.76,
          239.45,
          41.83,
          37.89,
          12.64,
          6.97,
          18.8,
          11.2,
          53.8,
          56.01,
          32.13,
          4.06,
          58.41,
          166.69,
          65.9,
          25.95,
          1.7,
          17.95,
          48.34,
          36.65,
          7.33,
          63.76,
          51.14,
          76.77,
          21.11,
          13.52,
          8.54,
          9.25,
          5.45,
          22.97,
          76.64,
          7.76,
          9.02,
          32.7,
          55.99,
          6.74,
          32.6,
          64.35,
          9.09,
          18.54,
          56.99,
          32.73,
          7.46,
          2.86,
          19.44,
          9.74,
          451.56,
          31.57,
          7.15,
          1.78,
          9.01,
          31.36,
          6.92,
          61.08,
          31.58,
          59.08,
          31.48,
          66.23,
          39.67,
          24.44,
          10.95,
          29.57,
          50.68,
          46.98,
          3.1,
          20.37,
          20.48,
          22.52,
          25.47,
          75.55,
          8.82,
          7.18,
          25.48,
          46.66,
          8.37,
          60.39,
          34.05,
          28.16,
          21.08,
          937.46,
          163.9,
          263.91,
          18.54,
          1001.17,
          143.51,
          248.13,
          151.28,
          320.51,
          613.66,
          232.83,
          102.02,
          188.67,
          1.27,
          39.04
         ],
         "xaxis": "x2",
         "yaxis": "y2"
        }
       ],
       "layout": {
        "annotations": [
         {
          "font": {
           "size": 16
          },
          "showarrow": false,
          "text": "Distribution of Original Price ($)",
          "x": 0.5,
          "xanchor": "center",
          "xref": "paper",
          "y": 1,
          "yanchor": "bottom",
          "yref": "paper"
         },
         {
          "font": {
           "size": 16
          },
          "showarrow": false,
          "text": "Distribution of Current Price ($)",
          "x": 0.5,
          "xanchor": "center",
          "xref": "paper",
          "y": 0.375,
          "yanchor": "bottom",
          "yref": "paper"
         }
        ],
        "height": 900,
        "paper_bgcolor": "#1c101c",
        "plot_bgcolor": "#1c101c",
        "template": {
         "data": {
          "bar": [
           {
            "error_x": {
             "color": "#f2f5fa"
            },
            "error_y": {
             "color": "#f2f5fa"
            },
            "marker": {
             "line": {
              "color": "rgb(17,17,17)",
              "width": 0.5
             },
             "pattern": {
              "fillmode": "overlay",
              "size": 10,
              "solidity": 0.2
             }
            },
            "type": "bar"
           }
          ],
          "barpolar": [
           {
            "marker": {
             "line": {
              "color": "rgb(17,17,17)",
              "width": 0.5
             },
             "pattern": {
              "fillmode": "overlay",
              "size": 10,
              "solidity": 0.2
             }
            },
            "type": "barpolar"
           }
          ],
          "carpet": [
           {
            "aaxis": {
             "endlinecolor": "#A2B1C6",
             "gridcolor": "#506784",
             "linecolor": "#506784",
             "minorgridcolor": "#506784",
             "startlinecolor": "#A2B1C6"
            },
            "baxis": {
             "endlinecolor": "#A2B1C6",
             "gridcolor": "#506784",
             "linecolor": "#506784",
             "minorgridcolor": "#506784",
             "startlinecolor": "#A2B1C6"
            },
            "type": "carpet"
           }
          ],
          "choropleth": [
           {
            "colorbar": {
             "outlinewidth": 0,
             "ticks": ""
            },
            "type": "choropleth"
           }
          ],
          "contour": [
           {
            "colorbar": {
             "outlinewidth": 0,
             "ticks": ""
            },
            "colorscale": [
             [
              0,
              "#0d0887"
             ],
             [
              0.1111111111111111,
              "#46039f"
             ],
             [
              0.2222222222222222,
              "#7201a8"
             ],
             [
              0.3333333333333333,
              "#9c179e"
             ],
             [
              0.4444444444444444,
              "#bd3786"
             ],
             [
              0.5555555555555556,
              "#d8576b"
             ],
             [
              0.6666666666666666,
              "#ed7953"
             ],
             [
              0.7777777777777778,
              "#fb9f3a"
             ],
             [
              0.8888888888888888,
              "#fdca26"
             ],
             [
              1,
              "#f0f921"
             ]
            ],
            "type": "contour"
           }
          ],
          "contourcarpet": [
           {
            "colorbar": {
             "outlinewidth": 0,
             "ticks": ""
            },
            "type": "contourcarpet"
           }
          ],
          "heatmap": [
           {
            "colorbar": {
             "outlinewidth": 0,
             "ticks": ""
            },
            "colorscale": [
             [
              0,
              "#0d0887"
             ],
             [
              0.1111111111111111,
              "#46039f"
             ],
             [
              0.2222222222222222,
              "#7201a8"
             ],
             [
              0.3333333333333333,
              "#9c179e"
             ],
             [
              0.4444444444444444,
              "#bd3786"
             ],
             [
              0.5555555555555556,
              "#d8576b"
             ],
             [
              0.6666666666666666,
              "#ed7953"
             ],
             [
              0.7777777777777778,
              "#fb9f3a"
             ],
             [
              0.8888888888888888,
              "#fdca26"
             ],
             [
              1,
              "#f0f921"
             ]
            ],
            "type": "heatmap"
           }
          ],
          "heatmapgl": [
           {
            "colorbar": {
             "outlinewidth": 0,
             "ticks": ""
            },
            "colorscale": [
             [
              0,
              "#0d0887"
             ],
             [
              0.1111111111111111,
              "#46039f"
             ],
             [
              0.2222222222222222,
              "#7201a8"
             ],
             [
              0.3333333333333333,
              "#9c179e"
             ],
             [
              0.4444444444444444,
              "#bd3786"
             ],
             [
              0.5555555555555556,
              "#d8576b"
             ],
             [
              0.6666666666666666,
              "#ed7953"
             ],
             [
              0.7777777777777778,
              "#fb9f3a"
             ],
             [
              0.8888888888888888,
              "#fdca26"
             ],
             [
              1,
              "#f0f921"
             ]
            ],
            "type": "heatmapgl"
           }
          ],
          "histogram": [
           {
            "marker": {
             "pattern": {
              "fillmode": "overlay",
              "size": 10,
              "solidity": 0.2
             }
            },
            "type": "histogram"
           }
          ],
          "histogram2d": [
           {
            "colorbar": {
             "outlinewidth": 0,
             "ticks": ""
            },
            "colorscale": [
             [
              0,
              "#0d0887"
             ],
             [
              0.1111111111111111,
              "#46039f"
             ],
             [
              0.2222222222222222,
              "#7201a8"
             ],
             [
              0.3333333333333333,
              "#9c179e"
             ],
             [
              0.4444444444444444,
              "#bd3786"
             ],
             [
              0.5555555555555556,
              "#d8576b"
             ],
             [
              0.6666666666666666,
              "#ed7953"
             ],
             [
              0.7777777777777778,
              "#fb9f3a"
             ],
             [
              0.8888888888888888,
              "#fdca26"
             ],
             [
              1,
              "#f0f921"
             ]
            ],
            "type": "histogram2d"
           }
          ],
          "histogram2dcontour": [
           {
            "colorbar": {
             "outlinewidth": 0,
             "ticks": ""
            },
            "colorscale": [
             [
              0,
              "#0d0887"
             ],
             [
              0.1111111111111111,
              "#46039f"
             ],
             [
              0.2222222222222222,
              "#7201a8"
             ],
             [
              0.3333333333333333,
              "#9c179e"
             ],
             [
              0.4444444444444444,
              "#bd3786"
             ],
             [
              0.5555555555555556,
              "#d8576b"
             ],
             [
              0.6666666666666666,
              "#ed7953"
             ],
             [
              0.7777777777777778,
              "#fb9f3a"
             ],
             [
              0.8888888888888888,
              "#fdca26"
             ],
             [
              1,
              "#f0f921"
             ]
            ],
            "type": "histogram2dcontour"
           }
          ],
          "mesh3d": [
           {
            "colorbar": {
             "outlinewidth": 0,
             "ticks": ""
            },
            "type": "mesh3d"
           }
          ],
          "parcoords": [
           {
            "line": {
             "colorbar": {
              "outlinewidth": 0,
              "ticks": ""
             }
            },
            "type": "parcoords"
           }
          ],
          "pie": [
           {
            "automargin": true,
            "type": "pie"
           }
          ],
          "scatter": [
           {
            "marker": {
             "line": {
              "color": "#283442"
             }
            },
            "type": "scatter"
           }
          ],
          "scatter3d": [
           {
            "line": {
             "colorbar": {
              "outlinewidth": 0,
              "ticks": ""
             }
            },
            "marker": {
             "colorbar": {
              "outlinewidth": 0,
              "ticks": ""
             }
            },
            "type": "scatter3d"
           }
          ],
          "scattercarpet": [
           {
            "marker": {
             "colorbar": {
              "outlinewidth": 0,
              "ticks": ""
             }
            },
            "type": "scattercarpet"
           }
          ],
          "scattergeo": [
           {
            "marker": {
             "colorbar": {
              "outlinewidth": 0,
              "ticks": ""
             }
            },
            "type": "scattergeo"
           }
          ],
          "scattergl": [
           {
            "marker": {
             "line": {
              "color": "#283442"
             }
            },
            "type": "scattergl"
           }
          ],
          "scattermapbox": [
           {
            "marker": {
             "colorbar": {
              "outlinewidth": 0,
              "ticks": ""
             }
            },
            "type": "scattermapbox"
           }
          ],
          "scatterpolar": [
           {
            "marker": {
             "colorbar": {
              "outlinewidth": 0,
              "ticks": ""
             }
            },
            "type": "scatterpolar"
           }
          ],
          "scatterpolargl": [
           {
            "marker": {
             "colorbar": {
              "outlinewidth": 0,
              "ticks": ""
             }
            },
            "type": "scatterpolargl"
           }
          ],
          "scatterternary": [
           {
            "marker": {
             "colorbar": {
              "outlinewidth": 0,
              "ticks": ""
             }
            },
            "type": "scatterternary"
           }
          ],
          "surface": [
           {
            "colorbar": {
             "outlinewidth": 0,
             "ticks": ""
            },
            "colorscale": [
             [
              0,
              "#0d0887"
             ],
             [
              0.1111111111111111,
              "#46039f"
             ],
             [
              0.2222222222222222,
              "#7201a8"
             ],
             [
              0.3333333333333333,
              "#9c179e"
             ],
             [
              0.4444444444444444,
              "#bd3786"
             ],
             [
              0.5555555555555556,
              "#d8576b"
             ],
             [
              0.6666666666666666,
              "#ed7953"
             ],
             [
              0.7777777777777778,
              "#fb9f3a"
             ],
             [
              0.8888888888888888,
              "#fdca26"
             ],
             [
              1,
              "#f0f921"
             ]
            ],
            "type": "surface"
           }
          ],
          "table": [
           {
            "cells": {
             "fill": {
              "color": "#506784"
             },
             "line": {
              "color": "rgb(17,17,17)"
             }
            },
            "header": {
             "fill": {
              "color": "#2a3f5f"
             },
             "line": {
              "color": "rgb(17,17,17)"
             }
            },
            "type": "table"
           }
          ]
         },
         "layout": {
          "annotationdefaults": {
           "arrowcolor": "#f2f5fa",
           "arrowhead": 0,
           "arrowwidth": 1
          },
          "autotypenumbers": "strict",
          "coloraxis": {
           "colorbar": {
            "outlinewidth": 0,
            "ticks": ""
           }
          },
          "colorscale": {
           "diverging": [
            [
             0,
             "#8e0152"
            ],
            [
             0.1,
             "#c51b7d"
            ],
            [
             0.2,
             "#de77ae"
            ],
            [
             0.3,
             "#f1b6da"
            ],
            [
             0.4,
             "#fde0ef"
            ],
            [
             0.5,
             "#f7f7f7"
            ],
            [
             0.6,
             "#e6f5d0"
            ],
            [
             0.7,
             "#b8e186"
            ],
            [
             0.8,
             "#7fbc41"
            ],
            [
             0.9,
             "#4d9221"
            ],
            [
             1,
             "#276419"
            ]
           ],
           "sequential": [
            [
             0,
             "#0d0887"
            ],
            [
             0.1111111111111111,
             "#46039f"
            ],
            [
             0.2222222222222222,
             "#7201a8"
            ],
            [
             0.3333333333333333,
             "#9c179e"
            ],
            [
             0.4444444444444444,
             "#bd3786"
            ],
            [
             0.5555555555555556,
             "#d8576b"
            ],
            [
             0.6666666666666666,
             "#ed7953"
            ],
            [
             0.7777777777777778,
             "#fb9f3a"
            ],
            [
             0.8888888888888888,
             "#fdca26"
            ],
            [
             1,
             "#f0f921"
            ]
           ],
           "sequentialminus": [
            [
             0,
             "#0d0887"
            ],
            [
             0.1111111111111111,
             "#46039f"
            ],
            [
             0.2222222222222222,
             "#7201a8"
            ],
            [
             0.3333333333333333,
             "#9c179e"
            ],
            [
             0.4444444444444444,
             "#bd3786"
            ],
            [
             0.5555555555555556,
             "#d8576b"
            ],
            [
             0.6666666666666666,
             "#ed7953"
            ],
            [
             0.7777777777777778,
             "#fb9f3a"
            ],
            [
             0.8888888888888888,
             "#fdca26"
            ],
            [
             1,
             "#f0f921"
            ]
           ]
          },
          "colorway": [
           "#636efa",
           "#EF553B",
           "#00cc96",
           "#ab63fa",
           "#FFA15A",
           "#19d3f3",
           "#FF6692",
           "#B6E880",
           "#FF97FF",
           "#FECB52"
          ],
          "font": {
           "color": "#f2f5fa"
          },
          "geo": {
           "bgcolor": "rgb(17,17,17)",
           "lakecolor": "rgb(17,17,17)",
           "landcolor": "rgb(17,17,17)",
           "showlakes": true,
           "showland": true,
           "subunitcolor": "#506784"
          },
          "hoverlabel": {
           "align": "left"
          },
          "hovermode": "closest",
          "mapbox": {
           "style": "dark"
          },
          "paper_bgcolor": "rgb(17,17,17)",
          "plot_bgcolor": "rgb(17,17,17)",
          "polar": {
           "angularaxis": {
            "gridcolor": "#506784",
            "linecolor": "#506784",
            "ticks": ""
           },
           "bgcolor": "rgb(17,17,17)",
           "radialaxis": {
            "gridcolor": "#506784",
            "linecolor": "#506784",
            "ticks": ""
           }
          },
          "scene": {
           "xaxis": {
            "backgroundcolor": "rgb(17,17,17)",
            "gridcolor": "#506784",
            "gridwidth": 2,
            "linecolor": "#506784",
            "showbackground": true,
            "ticks": "",
            "zerolinecolor": "#C8D4E3"
           },
           "yaxis": {
            "backgroundcolor": "rgb(17,17,17)",
            "gridcolor": "#506784",
            "gridwidth": 2,
            "linecolor": "#506784",
            "showbackground": true,
            "ticks": "",
            "zerolinecolor": "#C8D4E3"
           },
           "zaxis": {
            "backgroundcolor": "rgb(17,17,17)",
            "gridcolor": "#506784",
            "gridwidth": 2,
            "linecolor": "#506784",
            "showbackground": true,
            "ticks": "",
            "zerolinecolor": "#C8D4E3"
           }
          },
          "shapedefaults": {
           "line": {
            "color": "#f2f5fa"
           }
          },
          "sliderdefaults": {
           "bgcolor": "#C8D4E3",
           "bordercolor": "rgb(17,17,17)",
           "borderwidth": 1,
           "tickwidth": 0
          },
          "ternary": {
           "aaxis": {
            "gridcolor": "#506784",
            "linecolor": "#506784",
            "ticks": ""
           },
           "baxis": {
            "gridcolor": "#506784",
            "linecolor": "#506784",
            "ticks": ""
           },
           "bgcolor": "rgb(17,17,17)",
           "caxis": {
            "gridcolor": "#506784",
            "linecolor": "#506784",
            "ticks": ""
           }
          },
          "title": {
           "x": 0.05
          },
          "updatemenudefaults": {
           "bgcolor": "#506784",
           "borderwidth": 0
          },
          "xaxis": {
           "automargin": true,
           "gridcolor": "#283442",
           "linecolor": "#506784",
           "ticks": "",
           "title": {
            "standoff": 15
           },
           "zerolinecolor": "#283442",
           "zerolinewidth": 2
          },
          "yaxis": {
           "automargin": true,
           "gridcolor": "#283442",
           "linecolor": "#506784",
           "ticks": "",
           "title": {
            "standoff": 15
           },
           "zerolinecolor": "#283442",
           "zerolinewidth": 2
          }
         }
        },
        "title": {
         "font": {
          "color": "white",
          "size": 22
         }
        },
        "width": 1100,
        "xaxis": {
         "anchor": "y",
         "autorange": true,
         "domain": [
          0,
          1
         ],
         "matches": "x2",
         "range": [
          0,
          3300
         ],
         "showticklabels": false,
         "title": {
          "text": "Original Price ($)"
         },
         "type": "linear"
        },
        "xaxis2": {
         "anchor": "y2",
         "autorange": true,
         "domain": [
          0,
          1
         ],
         "range": [
          0,
          3300
         ],
         "title": {
          "text": "Current Price ($)"
         },
         "type": "linear"
        },
        "yaxis": {
         "anchor": "x",
         "autorange": true,
         "domain": [
          0.625,
          1
         ],
         "range": [
          0,
          175.78947368421052
         ],
         "title": {
          "text": "Frequency"
         }
        },
        "yaxis2": {
         "anchor": "x2",
         "autorange": true,
         "domain": [
          0,
          0.375
         ],
         "range": [
          0,
          128.42105263157896
         ],
         "title": {
          "text": "Frequency"
         }
        }
       }
      },
      "image/png": "[encoded data removed]",
      "text/html": [
       "<div>                            <div id=\"4c4e37a8-d29b-4a93-8612-7d2c15aebcb9\" class=\"plotly-graph-div\" style=\"height:900px; width:1100px;\"></div>            <script type=\"text/javascript\">                require([\"plotly\"], function(Plotly) {                    window.PLOTLYENV=window.PLOTLYENV || {};                                    if (document.getElementById(\"4c4e37a8-d29b-4a93-8612-7d2c15aebcb9\")) {                    Plotly.newPlot(                        \"4c4e37a8-d29b-4a93-8612-7d2c15aebcb9\",                        [{\"marker\":{\"color\":\"cyan\"},\"nbinsx\":120,\"showlegend\":false,\"x\":[78.4,48.82,1294.04,1474.17,671.47,56.58,98.79,86.61,15.71,82.27,251.56,736.43,665.74,407.85,313.69,72.43,983.42,98.79,633.27,86.61,355.38,78.4,82.27,108.32,1506.07,449.85,208.94,213.67,355.38,4.49,736.43,665.74,244.15,303.84,593.72,270.77,109.89,67.36,109.92,181.98,486.32,1111.68,369.77,314.56,13.35,377.01,681.72,47.73,247.81,425.67,167.87,249.6,108.54,1474.17,38.01,591.23,254.96,580.46,375.5,593.19,1025.04,233.9,112.73,270.77,18.89,679.94,805.33,27.17,1484.31,1076.22,356.88,656.96,931.46,198.01,2497.35,465.93,53.4,369.77,55.84,66.17,105.14,76.28,23.74,20.29,76.28,76.28,832.78,18.12,70.57,44.77,47.42,31.18,92.35,10.29,107.72,1124.88,23.26,15.4,117.51,16.05,35.67,2559.3,35.03,30.07,36.52,52.34,14.31,13.95,24.91,55.77,41.84,34.41,20.95,21.24,12.85,22.17,31.24,18.37,20.79,248.93,4.94,35.68,26.39,22.73,1154.41,48.79,74.05,53.87,21.89,2487.65,26.22,688.21,18.32,49.35,102.04,377.24,396.09,164.43,101.92,352.17,282.38,67.47,737.32,457.33,380.05,307.3,137.05,2985.39,991.56,14.13,944.53,147.79,764.64,562.95,329.58,77.12,345.88,1323.7,950.85,114.27,196.39,268.3,60.68,64.84,27.78,1075.56,63.21,13.67,183.29,103.62,322.47,60.26,108.54,10.95,106.66,94.03,424.33,204.02,72.0,58.86,363.64,411.94,136.53,744.64,116.35,33.34,369.84,57.51,32.07,100.58,144.96,47.19,32.72,158.71,47.9,176.27,10.82,158.82,21.69,591.77,26.92,313.14,14.13,482.4,30.53,131.54,351.25,449.93,33.2,51.8,206.95,1411.9,104.72,10.59,455.45,119.48,580.54,660.11,198.12,87.19,45.71,102.4,105.68,90.84,80.48,25.29,55.22,1620.8,468.01,392.95,131.36,112.27,673.24,85.05,17.87,16.49,24.12,135.02,64.68,72.19,125.6,14.62,109.65,809.32,164.08,13.37,203.59,132.06,272.9,7.47,813.07,7.27,624.01,65.04,46.45,619.0,156.95,326.38,11.85,917.39,7.9,62.72,19.37,28.58,102.24,384.58,127.67,119.68,319.43,124.65,693.96,32.5,2760.04,12.01,1632.54,272.68,37.21,155.48,46.45,67.68,395.29,434.16,375.5,74.6,59.52,86.67,17.9,101.95,133.64,46.45,611.82,360.47,54.15,109.64,176.67,180.32,709.46,150.55,367.78,109.77,141.33,11.59,1093.19,123.45,7.68,38.97,14.14,11.58,754.72,389.52,22.54,47.7,26.56,88.31,10.76,141.01,250.27,87.12,7.87,66.24,534.03,703.51,36.12,67.52,14.82,9.93,64.4,70.32,37.14,52.34,37.26,17.71,296.4,370.75,365.59,42.37,86.1,3265.13,101.74,12.08,17.71,140.63,236.96,236.96,17.46,5.94,61.32,455.74,10.45,30.18,97.02,437.19,280.03,16.55,608.66,102.04,290.55,7.76,291.02,446.13,304.13,632.34,36.64,52.47,65.36,8.65,108.02,46.45,473.78,10.75,98.72,21.64,72.76,14.85,218.4,11.15,54.65,5.53,3.86,53.97,30.19,13.86,3.63,9.78,25.95,13.77,265.2,64.65,37.19,67.96,281.6,10.28,3.75,11.76,406.59,74.6,80.77,26.63,21.99,49.6,31.27,92.17,110.6,38.13,16.76,117.11,287.82,134.81,48.22,7.7,36.48,49.84,65.36,22.21,129.19,57.14,136.92,21.11,13.52,24.22,15.25,11.45,53.65,139.36,13.76,15.02,68.88,99.99,12.74,81.2,125.48,26.92,46.08,104.98,35.23,13.46,8.86,19.44,9.74,762.6,75.15,13.15,7.78,15.01,74.71,21.77,119.65,37.58,105.38,66.85,131.32,81.46,50.71,30.81,35.57,101.09,83.8,9.1,26.37,26.48,25.02,31.47,135.92,8.82,12.81,56.14,87.69,8.37,107.72,71.43,34.16,54.15,1655.19,280.67,449.85,46.08,1291.24,427.16,423.55,314.56,1632.54,1239.31,392.22,135.02,950.85,7.27,76.93],\"type\":\"histogram\",\"xaxis\":\"x\",\"yaxis\":\"y\"},{\"marker\":{\"color\":\"#ffa6c9\"},\"nbinsx\":80,\"showlegend\":false,\"x\":[39.46,21.37,123.4,734.58,331.24,26.03,49.39,48.56,9.71,40.13,87.08,435.86,393.44,279.49,175.94,31.71,584.05,49.39,342.3,48.56,200.12,39.46,40.13,58.99,897.64,263.91,115.19,111.74,207.23,1.99,435.86,393.44,135.61,100.34,350.23,156.46,61.61,26.79,55.63,84.99,237.16,549.84,208.46,151.28,10.85,212.67,334.86,26.76,142.68,249.4,77.94,143.76,60.86,734.58,38.01,289.61,146.97,342.28,181.75,290.59,506.52,57.15,57.2,156.46,4.39,673.94,396.67,27.17,884.59,801.16,208.13,388.18,534.25,112.81,493.47,268.74,53.4,208.46,21.92,34.68,57.09,35.19,8.25,11.37,42.77,36.77,493.67,12.12,32.81,25.1,17.71,14.98,45.78,10.29,60.39,673.43,13.8,15.4,57.46,13.55,29.67,1529.58,29.03,24.07,34.02,29.34,8.31,7.95,18.91,25.27,35.84,34.41,16.45,15.24,8.35,16.17,31.24,18.37,14.79,185.2,0.99,33.18,20.39,18.23,686.65,21.43,42.93,26.32,21.89,491.53,14.7,386.28,5.0,26.11,31.75,223.85,192.04,92.66,54.64,209.8,163.43,27.73,436.39,85.47,207.53,147.65,44.71,292.54,192.31,7.92,470.77,73.81,376.32,333.27,155.49,32.56,180.77,788.22,188.67,36.28,111.83,128.15,24.34,36.35,7.89,209.11,29.44,7.67,85.64,47.31,187.48,33.79,56.36,0.99,47.33,50.42,248.6,96.01,40.08,23.43,215.68,199.97,55.57,366.32,63.81,10.67,178.92,33.11,12.28,54.35,66.68,26.46,13.64,73.35,29.45,83.9,4.82,67.38,15.69,349.06,9.07,181.88,7.92,236.7,10.79,58.45,169.62,226.97,12.61,22.49,118.17,841.14,44.27,0.99,197.9,53.74,288.77,390.07,93.06,35.12,18.69,56.94,37.6,36.65,28.28,8.18,24.96,318.16,274.81,190.47,59.68,35.92,335.12,40.78,8.04,13.99,7.27,102.02,30.84,35.98,70.42,8.62,52.12,350.1,54.71,7.37,95.79,74.04,133.18,7.47,161.11,1.27,369.91,29.12,21.05,563.48,52.07,160.69,6.64,177.48,1.34,33.66,5.49,27.08,36.33,190.14,65.58,65.81,134.55,44.62,410.38,26.5,546.01,6.01,320.51,152.7,23.4,87.29,19.55,31.95,200.1,211.08,181.75,41.83,33.37,38.2,4.62,49.47,74.93,26.04,365.59,66.09,21.08,55.47,100.0,93.18,265.09,78.41,214.67,53.38,79.24,0.99,649.92,44.18,1.68,32.97,14.14,5.58,446.83,227.71,9.78,21.94,8.34,82.31,4.76,73.06,144.16,37.56,1.87,26.46,234.32,345.76,15.56,26.41,2.31,5.89,30.11,64.32,21.5,29.34,31.26,11.71,171.84,179.38,176.79,23.76,41.36,647.03,58.09,6.08,5.43,78.85,136.18,136.18,3.79,0.99,28.38,267.44,10.45,11.2,47.01,212.6,162.02,10.55,359.2,30.73,168.33,1.76,172.11,191.8,153.6,373.4,20.54,25.49,36.65,7.15,60.56,20.04,279.77,0.99,47.31,6.55,42.16,8.85,125.04,5.15,52.15,0.99,0.99,24.64,27.69,7.86,3.63,3.78,19.95,7.77,157.62,28.91,37.19,26.62,148.88,4.28,3.75,5.76,239.45,41.83,37.89,12.64,6.97,18.8,11.2,53.8,56.01,32.13,4.06,58.41,166.69,65.9,25.95,1.7,17.95,48.34,36.65,7.33,63.76,51.14,76.77,21.11,13.52,8.54,9.25,5.45,22.97,76.64,7.76,9.02,32.7,55.99,6.74,32.6,64.35,9.09,18.54,56.99,32.73,7.46,2.86,19.44,9.74,451.56,31.57,7.15,1.78,9.01,31.36,6.92,61.08,31.58,59.08,31.48,66.23,39.67,24.44,10.95,29.57,50.68,46.98,3.1,20.37,20.48,22.52,25.47,75.55,8.82,7.18,25.48,46.66,8.37,60.39,34.05,28.16,21.08,937.46,163.9,263.91,18.54,1001.17,143.51,248.13,151.28,320.51,613.66,232.83,102.02,188.67,1.27,39.04],\"type\":\"histogram\",\"xaxis\":\"x2\",\"yaxis\":\"y2\"}],                        {\"template\":{\"data\":{\"barpolar\":[{\"marker\":{\"line\":{\"color\":\"rgb(17,17,17)\",\"width\":0.5},\"pattern\":{\"fillmode\":\"overlay\",\"size\":10,\"solidity\":0.2}},\"type\":\"barpolar\"}],\"bar\":[{\"error_x\":{\"color\":\"#f2f5fa\"},\"error_y\":{\"color\":\"#f2f5fa\"},\"marker\":{\"line\":{\"color\":\"rgb(17,17,17)\",\"width\":0.5},\"pattern\":{\"fillmode\":\"overlay\",\"size\":10,\"solidity\":0.2}},\"type\":\"bar\"}],\"carpet\":[{\"aaxis\":{\"endlinecolor\":\"#A2B1C6\",\"gridcolor\":\"#506784\",\"linecolor\":\"#506784\",\"minorgridcolor\":\"#506784\",\"startlinecolor\":\"#A2B1C6\"},\"baxis\":{\"endlinecolor\":\"#A2B1C6\",\"gridcolor\":\"#506784\",\"linecolor\":\"#506784\",\"minorgridcolor\":\"#506784\",\"startlinecolor\":\"#A2B1C6\"},\"type\":\"carpet\"}],\"choropleth\":[{\"colorbar\":{\"outlinewidth\":0,\"ticks\":\"\"},\"type\":\"choropleth\"}],\"contourcarpet\":[{\"colorbar\":{\"outlinewidth\":0,\"ticks\":\"\"},\"type\":\"contourcarpet\"}],\"contour\":[{\"colorbar\":{\"outlinewidth\":0,\"ticks\":\"\"},\"colorscale\":[[0.0,\"#0d0887\"],[0.1111111111111111,\"#46039f\"],[0.2222222222222222,\"#7201a8\"],[0.3333333333333333,\"#9c179e\"],[0.4444444444444444,\"#bd3786\"],[0.5555555555555556,\"#d8576b\"],[0.6666666666666666,\"#ed7953\"],[0.7777777777777778,\"#fb9f3a\"],[0.8888888888888888,\"#fdca26\"],[1.0,\"#f0f921\"]],\"type\":\"contour\"}],\"heatmapgl\":[{\"colorbar\":{\"outlinewidth\":0,\"ticks\":\"\"},\"colorscale\":[[0.0,\"#0d0887\"],[0.1111111111111111,\"#46039f\"],[0.2222222222222222,\"#7201a8\"],[0.3333333333333333,\"#9c179e\"],[0.4444444444444444,\"#bd3786\"],[0.5555555555555556,\"#d8576b\"],[0.6666666666666666,\"#ed7953\"],[0.7777777777777778,\"#fb9f3a\"],[0.8888888888888888,\"#fdca26\"],[1.0,\"#f0f921\"]],\"type\":\"heatmapgl\"}],\"heatmap\":[{\"colorbar\":{\"outlinewidth\":0,\"ticks\":\"\"},\"colorscale\":[[0.0,\"#0d0887\"],[0.1111111111111111,\"#46039f\"],[0.2222222222222222,\"#7201a8\"],[0.3333333333333333,\"#9c179e\"],[0.4444444444444444,\"#bd3786\"],[0.5555555555555556,\"#d8576b\"],[0.6666666666666666,\"#ed7953\"],[0.7777777777777778,\"#fb9f3a\"],[0.8888888888888888,\"#fdca26\"],[1.0,\"#f0f921\"]],\"type\":\"heatmap\"}],\"histogram2dcontour\":[{\"colorbar\":{\"outlinewidth\":0,\"ticks\":\"\"},\"colorscale\":[[0.0,\"#0d0887\"],[0.1111111111111111,\"#46039f\"],[0.2222222222222222,\"#7201a8\"],[0.3333333333333333,\"#9c179e\"],[0.4444444444444444,\"#bd3786\"],[0.5555555555555556,\"#d8576b\"],[0.6666666666666666,\"#ed7953\"],[0.7777777777777778,\"#fb9f3a\"],[0.8888888888888888,\"#fdca26\"],[1.0,\"#f0f921\"]],\"type\":\"histogram2dcontour\"}],\"histogram2d\":[{\"colorbar\":{\"outlinewidth\":0,\"ticks\":\"\"},\"colorscale\":[[0.0,\"#0d0887\"],[0.1111111111111111,\"#46039f\"],[0.2222222222222222,\"#7201a8\"],[0.3333333333333333,\"#9c179e\"],[0.4444444444444444,\"#bd3786\"],[0.5555555555555556,\"#d8576b\"],[0.6666666666666666,\"#ed7953\"],[0.7777777777777778,\"#fb9f3a\"],[0.8888888888888888,\"#fdca26\"],[1.0,\"#f0f921\"]],\"type\":\"histogram2d\"}],\"histogram\":[{\"marker\":{\"pattern\":{\"fillmode\":\"overlay\",\"size\":10,\"solidity\":0.2}},\"type\":\"histogram\"}],\"mesh3d\":[{\"colorbar\":{\"outlinewidth\":0,\"ticks\":\"\"},\"type\":\"mesh3d\"}],\"parcoords\":[{\"line\":{\"colorbar\":{\"outlinewidth\":0,\"ticks\":\"\"}},\"type\":\"parcoords\"}],\"pie\":[{\"automargin\":true,\"type\":\"pie\"}],\"scatter3d\":[{\"line\":{\"colorbar\":{\"outlinewidth\":0,\"ticks\":\"\"}},\"marker\":{\"colorbar\":{\"outlinewidth\":0,\"ticks\":\"\"}},\"type\":\"scatter3d\"}],\"scattercarpet\":[{\"marker\":{\"colorbar\":{\"outlinewidth\":0,\"ticks\":\"\"}},\"type\":\"scattercarpet\"}],\"scattergeo\":[{\"marker\":{\"colorbar\":{\"outlinewidth\":0,\"ticks\":\"\"}},\"type\":\"scattergeo\"}],\"scattergl\":[{\"marker\":{\"line\":{\"color\":\"#283442\"}},\"type\":\"scattergl\"}],\"scattermapbox\":[{\"marker\":{\"colorbar\":{\"outlinewidth\":0,\"ticks\":\"\"}},\"type\":\"scattermapbox\"}],\"scatterpolargl\":[{\"marker\":{\"colorbar\":{\"outlinewidth\":0,\"ticks\":\"\"}},\"type\":\"scatterpolargl\"}],\"scatterpolar\":[{\"marker\":{\"colorbar\":{\"outlinewidth\":0,\"ticks\":\"\"}},\"type\":\"scatterpolar\"}],\"scatter\":[{\"marker\":{\"line\":{\"color\":\"#283442\"}},\"type\":\"scatter\"}],\"scatterternary\":[{\"marker\":{\"colorbar\":{\"outlinewidth\":0,\"ticks\":\"\"}},\"type\":\"scatterternary\"}],\"surface\":[{\"colorbar\":{\"outlinewidth\":0,\"ticks\":\"\"},\"colorscale\":[[0.0,\"#0d0887\"],[0.1111111111111111,\"#46039f\"],[0.2222222222222222,\"#7201a8\"],[0.3333333333333333,\"#9c179e\"],[0.4444444444444444,\"#bd3786\"],[0.5555555555555556,\"#d8576b\"],[0.6666666666666666,\"#ed7953\"],[0.7777777777777778,\"#fb9f3a\"],[0.8888888888888888,\"#fdca26\"],[1.0,\"#f0f921\"]],\"type\":\"surface\"}],\"table\":[{\"cells\":{\"fill\":{\"color\":\"#506784\"},\"line\":{\"color\":\"rgb(17,17,17)\"}},\"header\":{\"fill\":{\"color\":\"#2a3f5f\"},\"line\":{\"color\":\"rgb(17,17,17)\"}},\"type\":\"table\"}]},\"layout\":{\"annotationdefaults\":{\"arrowcolor\":\"#f2f5fa\",\"arrowhead\":0,\"arrowwidth\":1},\"autotypenumbers\":\"strict\",\"coloraxis\":{\"colorbar\":{\"outlinewidth\":0,\"ticks\":\"\"}},\"colorscale\":{\"diverging\":[[0,\"#8e0152\"],[0.1,\"#c51b7d\"],[0.2,\"#de77ae\"],[0.3,\"#f1b6da\"],[0.4,\"#fde0ef\"],[0.5,\"#f7f7f7\"],[0.6,\"#e6f5d0\"],[0.7,\"#b8e186\"],[0.8,\"#7fbc41\"],[0.9,\"#4d9221\"],[1,\"#276419\"]],\"sequential\":[[0.0,\"#0d0887\"],[0.1111111111111111,\"#46039f\"],[0.2222222222222222,\"#7201a8\"],[0.3333333333333333,\"#9c179e\"],[0.4444444444444444,\"#bd3786\"],[0.5555555555555556,\"#d8576b\"],[0.6666666666666666,\"#ed7953\"],[0.7777777777777778,\"#fb9f3a\"],[0.8888888888888888,\"#fdca26\"],[1.0,\"#f0f921\"]],\"sequentialminus\":[[0.0,\"#0d0887\"],[0.1111111111111111,\"#46039f\"],[0.2222222222222222,\"#7201a8\"],[0.3333333333333333,\"#9c179e\"],[0.4444444444444444,\"#bd3786\"],[0.5555555555555556,\"#d8576b\"],[0.6666666666666666,\"#ed7953\"],[0.7777777777777778,\"#fb9f3a\"],[0.8888888888888888,\"#fdca26\"],[1.0,\"#f0f921\"]]},\"colorway\":[\"#636efa\",\"#EF553B\",\"#00cc96\",\"#ab63fa\",\"#FFA15A\",\"#19d3f3\",\"#FF6692\",\"#B6E880\",\"#FF97FF\",\"#FECB52\"],\"font\":{\"color\":\"#f2f5fa\"},\"geo\":{\"bgcolor\":\"rgb(17,17,17)\",\"lakecolor\":\"rgb(17,17,17)\",\"landcolor\":\"rgb(17,17,17)\",\"showlakes\":true,\"showland\":true,\"subunitcolor\":\"#506784\"},\"hoverlabel\":{\"align\":\"left\"},\"hovermode\":\"closest\",\"mapbox\":{\"style\":\"dark\"},\"paper_bgcolor\":\"rgb(17,17,17)\",\"plot_bgcolor\":\"rgb(17,17,17)\",\"polar\":{\"angularaxis\":{\"gridcolor\":\"#506784\",\"linecolor\":\"#506784\",\"ticks\":\"\"},\"bgcolor\":\"rgb(17,17,17)\",\"radialaxis\":{\"gridcolor\":\"#506784\",\"linecolor\":\"#506784\",\"ticks\":\"\"}},\"scene\":{\"xaxis\":{\"backgroundcolor\":\"rgb(17,17,17)\",\"gridcolor\":\"#506784\",\"gridwidth\":2,\"linecolor\":\"#506784\",\"showbackground\":true,\"ticks\":\"\",\"zerolinecolor\":\"#C8D4E3\"},\"yaxis\":{\"backgroundcolor\":\"rgb(17,17,17)\",\"gridcolor\":\"#506784\",\"gridwidth\":2,\"linecolor\":\"#506784\",\"showbackground\":true,\"ticks\":\"\",\"zerolinecolor\":\"#C8D4E3\"},\"zaxis\":{\"backgroundcolor\":\"rgb(17,17,17)\",\"gridcolor\":\"#506784\",\"gridwidth\":2,\"linecolor\":\"#506784\",\"showbackground\":true,\"ticks\":\"\",\"zerolinecolor\":\"#C8D4E3\"}},\"shapedefaults\":{\"line\":{\"color\":\"#f2f5fa\"}},\"sliderdefaults\":{\"bgcolor\":\"#C8D4E3\",\"bordercolor\":\"rgb(17,17,17)\",\"borderwidth\":1,\"tickwidth\":0},\"ternary\":{\"aaxis\":{\"gridcolor\":\"#506784\",\"linecolor\":\"#506784\",\"ticks\":\"\"},\"baxis\":{\"gridcolor\":\"#506784\",\"linecolor\":\"#506784\",\"ticks\":\"\"},\"bgcolor\":\"rgb(17,17,17)\",\"caxis\":{\"gridcolor\":\"#506784\",\"linecolor\":\"#506784\",\"ticks\":\"\"}},\"title\":{\"x\":0.05},\"updatemenudefaults\":{\"bgcolor\":\"#506784\",\"borderwidth\":0},\"xaxis\":{\"automargin\":true,\"gridcolor\":\"#283442\",\"linecolor\":\"#506784\",\"ticks\":\"\",\"title\":{\"standoff\":15},\"zerolinecolor\":\"#283442\",\"zerolinewidth\":2},\"yaxis\":{\"automargin\":true,\"gridcolor\":\"#283442\",\"linecolor\":\"#506784\",\"ticks\":\"\",\"title\":{\"standoff\":15},\"zerolinecolor\":\"#283442\",\"zerolinewidth\":2}}},\"xaxis\":{\"anchor\":\"y\",\"domain\":[0.0,1.0],\"matches\":\"x2\",\"showticklabels\":false,\"title\":{\"text\":\"Original Price ($)\"}},\"yaxis\":{\"anchor\":\"x\",\"domain\":[0.625,1.0],\"title\":{\"text\":\"Frequency\"}},\"xaxis2\":{\"anchor\":\"y2\",\"domain\":[0.0,1.0],\"title\":{\"text\":\"Current Price ($)\"}},\"yaxis2\":{\"anchor\":\"x2\",\"domain\":[0.0,0.375],\"title\":{\"text\":\"Frequency\"}},\"annotations\":[{\"font\":{\"size\":16},\"showarrow\":false,\"text\":\"Distribution of Original Price ($)\",\"x\":0.5,\"xanchor\":\"center\",\"xref\":\"paper\",\"y\":1.0,\"yanchor\":\"bottom\",\"yref\":\"paper\"},{\"font\":{\"size\":16},\"showarrow\":false,\"text\":\"Distribution of Current Price ($)\",\"x\":0.5,\"xanchor\":\"center\",\"xref\":\"paper\",\"y\":0.375,\"yanchor\":\"bottom\",\"yref\":\"paper\"}],\"title\":{\"font\":{\"size\":22,\"color\":\"white\"}},\"paper_bgcolor\":\"#1c101c\",\"plot_bgcolor\":\"#1c101c\",\"height\":900,\"width\":1100},                        {\"responsive\": true}                    ).then(function(){\n",
       "                            \n",
       "var gd = document.getElementById('4c4e37a8-d29b-4a93-8612-7d2c15aebcb9');\n",
       "var x = new MutationObserver(function (mutations, observer) {{\n",
       "        var display = window.getComputedStyle(gd).display;\n",
       "        if (!display || display === 'none') {{\n",
       "            console.log([gd, 'removed!']);\n",
       "            Plotly.purge(gd);\n",
       "            observer.disconnect();\n",
       "        }}\n",
       "}});\n",
       "\n",
       "// Listen for the removal of the full notebook cells\n",
       "var notebookContainer = gd.closest('#notebook-container');\n",
       "if (notebookContainer) {{\n",
       "    x.observe(notebookContainer, {childList: true});\n",
       "}}\n",
       "\n",
       "// Listen for the clearing of the current output cell\n",
       "var outputEl = gd.closest('.output');\n",
       "if (outputEl) {{\n",
       "    x.observe(outputEl, {childList: true});\n",
       "}}\n",
       "\n",
       "                        })                };                });            </script>        </div>"
      ]
     },
     "metadata": {},
     "output_type": "display_data"
    }
   ],
   "source": [
    "fig = make_subplots(rows=2, cols=1, shared_xaxes=True,  # align the x-axes for correct scale\n",
    "                    subplot_titles=(\"Distribution of Original Price ($)\", \"Distribution of Current Price ($)\"))\n",
    "\n",
    "fig.add_trace(go.Histogram(x=df_original_price[\"Original Price ($)\"], nbinsx=120, marker_color='cyan', showlegend=False), row=1, col=1)\n",
    "\n",
    "fig.add_trace(go.Histogram(x=df_original_price[\"Price ($)\"], nbinsx=80, marker_color='#ffa6c9', showlegend=False), row=2, col=1)\n",
    "\n",
    "fig.update_layout(template=\"plotly_dark\", paper_bgcolor='#1c101c', plot_bgcolor='#1c101c',\n",
    "                  xaxis_title=\"\", yaxis_title=\"Frequency\", title_font=dict(size=22, color='white'), height=900, width=1100)\n",
    "\n",
    "fig.update_xaxes(title_text=\"Original Price ($)\", row=1, col=1)\n",
    "fig.update_xaxes(title_text=\"Current Price ($)\", row=2, col=1)\n",
    "fig.update_yaxes(title_text=\"Frequency\", row=1, col=1)\n",
    "fig.update_yaxes(title_text=\"Frequency\", row=2, col=1)\n",
    "fig.show()"
   ]
  },
  {
   "cell_type": "code",
   "execution_count": 468,
   "id": "cf211d22-ca0c-4f26-9317-6857b10e7410",
   "metadata": {},
   "outputs": [
    {
     "name": "stdout",
     "output_type": "stream",
     "text": [
      "We observe that the values in 'Original Price ($)' are often roughly 2.12 times the values \n",
      "in 'Price ($)', so imputing may be considered.\n",
      "\n",
      "However, in some rows, the 'Original Price ($)' is much more than 2 times the 'Price ($)', and in \n",
      "other rows, it's much less than 2 times the 'Price ($)'. Since the variability amongst values is \n",
      "large and 75.65% of it is missing, we will drop the 'Original Price ($)' column.\n"
     ]
    }
   ],
   "source": [
    "orig_over_price = df_original_price[\"Original Price ($)\"].mean()/df_original_price[\"Price ($)\"].mean()\n",
    "null_proportion = df['Original Price ($)'].isnull().sum()/len(df) * 100 \n",
    "print(f\"We observe that the values in 'Original Price ($)' are often roughly {orig_over_price:.2f} times the values \"\n",
    "      f\"\\nin 'Price ($)', so imputing may be considered.\"\n",
    "      f\"\\n\\nHowever, in some rows, the 'Original Price ($)' is much more than {orig_over_price:.0f} times the 'Price ($)', and in \"\n",
    "      f\"\\nother rows, it's much less than {orig_over_price:.0f} times the 'Price ($)'. Since the variability amongst values is \"\n",
    "      f\"\\nlarge and {null_proportion:.2f}% of it is missing, we will drop the 'Original Price ($)' column.\")"
   ]
  },
  {
   "cell_type": "code",
   "execution_count": 470,
   "id": "31915ec0-e9bf-4f1a-8117-8cb165b89765",
   "metadata": {},
   "outputs": [
    {
     "data": {
      "text/html": [
       "<div>\n",
       "<style scoped>\n",
       "    .dataframe tbody tr th:only-of-type {\n",
       "        vertical-align: middle;\n",
       "    }\n",
       "\n",
       "    .dataframe tbody tr th {\n",
       "        vertical-align: top;\n",
       "    }\n",
       "\n",
       "    .dataframe thead th {\n",
       "        text-align: right;\n",
       "    }\n",
       "</style>\n",
       "<table border=\"1\" class=\"dataframe\">\n",
       "  <thead>\n",
       "    <tr style=\"text-align: right;\">\n",
       "      <th></th>\n",
       "      <th>Furniture Product</th>\n",
       "      <th>Price ($)</th>\n",
       "      <th>Units Sold</th>\n",
       "      <th>Shipping ($)</th>\n",
       "    </tr>\n",
       "  </thead>\n",
       "  <tbody>\n",
       "    <tr>\n",
       "      <th>0</th>\n",
       "      <td>Dresser For Bedroom With 9 Fabric Drawers Ward...</td>\n",
       "      <td>$46.79</td>\n",
       "      <td>600</td>\n",
       "      <td>Free shipping</td>\n",
       "    </tr>\n",
       "    <tr>\n",
       "      <th>1</th>\n",
       "      <td>Outdoor Conversation Set 4 Pieces Patio Furnit...</td>\n",
       "      <td>$169.72</td>\n",
       "      <td>0</td>\n",
       "      <td>Free shipping</td>\n",
       "    </tr>\n",
       "    <tr>\n",
       "      <th>2</th>\n",
       "      <td>Desser For Bedroom With 7 Fabric Drawers Organ...</td>\n",
       "      <td>$39.46</td>\n",
       "      <td>7</td>\n",
       "      <td>Free shipping</td>\n",
       "    </tr>\n",
       "    <tr>\n",
       "      <th>3</th>\n",
       "      <td>Modern Accent Boucle Chair,Upholstered Tufted ...</td>\n",
       "      <td>$111.99</td>\n",
       "      <td>0</td>\n",
       "      <td>Free shipping</td>\n",
       "    </tr>\n",
       "    <tr>\n",
       "      <th>4</th>\n",
       "      <td>Small Unit Simple Computer Desk Household Wood...</td>\n",
       "      <td>$21.37</td>\n",
       "      <td>1</td>\n",
       "      <td>Free shipping</td>\n",
       "    </tr>\n",
       "  </tbody>\n",
       "</table>\n",
       "</div>"
      ],
      "text/plain": [
       "                                   Furniture Product Price ($)  Units Sold  \\\n",
       "0  Dresser For Bedroom With 9 Fabric Drawers Ward...    $46.79         600   \n",
       "1  Outdoor Conversation Set 4 Pieces Patio Furnit...   $169.72           0   \n",
       "2  Desser For Bedroom With 7 Fabric Drawers Organ...    $39.46           7   \n",
       "3  Modern Accent Boucle Chair,Upholstered Tufted ...   $111.99           0   \n",
       "4  Small Unit Simple Computer Desk Household Wood...    $21.37           1   \n",
       "\n",
       "    Shipping ($)  \n",
       "0  Free shipping  \n",
       "1  Free shipping  \n",
       "2  Free shipping  \n",
       "3  Free shipping  \n",
       "4  Free shipping  "
      ]
     },
     "execution_count": 470,
     "metadata": {},
     "output_type": "execute_result"
    }
   ],
   "source": [
    "df.drop(columns=['Original Price ($)'], inplace=True)\n",
    "df.head()"
   ]
  },
  {
   "cell_type": "code",
   "execution_count": 472,
   "id": "19391c70-7dd4-4f2d-b59f-50bb7a5a7227",
   "metadata": {},
   "outputs": [
    {
     "data": {
      "text/plain": [
       "array(['Free shipping', nan, '+Shipping: $12.03', '+Shipping: $29.45',\n",
       "       '+Shipping: $36.4', '+Shipping: $86.91', '+Shipping: $225.12',\n",
       "       '+Shipping: $7.8', '+Shipping: $29.52', '+Shipping: $38.07',\n",
       "       '+Shipping: $104.89', '+Shipping: $239.64', '+Shipping: $41.19',\n",
       "       '+Shipping: $18.44', '+Shipping: $80.21', '+Shipping: $5.09',\n",
       "       '+Shipping: $110.64', '+Shipping: $64.01', '+Shipping: $150.28',\n",
       "       '+Shipping: $129.03', '+Shipping: $52.63', '+Shipping: $76.6',\n",
       "       '+Shipping: $210.53', '+Shipping: $64.56', '+Shipping: $120.25',\n",
       "       '+Shipping: $5.39', '+Shipping: $4.74', '+Shipping: $258.18',\n",
       "       '+Shipping: $72.79', '+Shipping: $168.91', '+Shipping: $109.18',\n",
       "       '+Shipping: $106.13', '+Shipping: $94.92', '+Shipping: $1,097.18',\n",
       "       '+Shipping: $170.31', '+Shipping: $88.26', '+Shipping: $23.49',\n",
       "       '+Shipping: $30.44', '+Shipping: $14.97', '+Shipping: $75.99',\n",
       "       '+Shipping: $14.91', '+Shipping: $18.81', '+Shipping: $69.95',\n",
       "       '+Shipping: $21.07', '+Shipping: $2.91', '+Shipping: $373.41',\n",
       "       '+Shipping: $34.4', '+Shipping: $1,115.86', '+Shipping: $86.33',\n",
       "       '+Shipping: $74.22', '+Shipping: $21.65', '+Shipping: $63.08',\n",
       "       '+Shipping: $5.86', '+Shipping: $112.1', '+Shipping: $322.02',\n",
       "       '+Shipping: $7.38', '+Shipping: $85.45', '+Shipping: $30.86',\n",
       "       '+Shipping: $140.27', '+Shipping: $60.41', '+Shipping: $132.48',\n",
       "       '+Shipping: $44.55', '+Shipping: $255.93', '+Shipping: $72.12',\n",
       "       '+Shipping: $66.53', '+Shipping: $142.23', '+Shipping: $23.29',\n",
       "       '+Shipping: $28.9', '+Shipping: $8.86', '+Shipping: $744.64',\n",
       "       '+Shipping: $21.62', '+Shipping: $12.82', '+Shipping: $1,323.31',\n",
       "       '+Shipping: $85.58', '+Shipping: $350.41', '+Shipping: $55.98',\n",
       "       '+Shipping: $141.75', '+Shipping: $397.72', '+Shipping: $84.44',\n",
       "       '+Shipping: $106.05', '+Shipping: $97.54', '+Shipping: $303.1',\n",
       "       '+Shipping: $227.23', '+Shipping: $122.29', '+Shipping: $66.35',\n",
       "       '+Shipping: $85.31', '+Shipping: $34.63', '+Shipping: $2.33',\n",
       "       '+Shipping: $381.73', '+Shipping: $363.95', '+Shipping: $60.62',\n",
       "       '+Shipping: $230.37', '+Shipping: $13.95', '+Shipping: $54.16',\n",
       "       '+Shipping: $67.69', '+Shipping: $134.27', '+Shipping: $92.22',\n",
       "       '+Shipping: $151.69', '+Shipping: $41.93', '+Shipping: $78.61',\n",
       "       '+Shipping: $171.49'], dtype=object)"
      ]
     },
     "execution_count": 472,
     "metadata": {},
     "output_type": "execute_result"
    }
   ],
   "source": [
    "df[\"Shipping ($)\"].unique()"
   ]
  },
  {
   "cell_type": "code",
   "execution_count": 474,
   "id": "fad1cd56-c03b-47bd-8aa6-cb5d44ce2d8c",
   "metadata": {},
   "outputs": [
    {
     "data": {
      "text/html": [
       "<div>\n",
       "<style scoped>\n",
       "    .dataframe tbody tr th:only-of-type {\n",
       "        vertical-align: middle;\n",
       "    }\n",
       "\n",
       "    .dataframe tbody tr th {\n",
       "        vertical-align: top;\n",
       "    }\n",
       "\n",
       "    .dataframe thead th {\n",
       "        text-align: right;\n",
       "    }\n",
       "</style>\n",
       "<table border=\"1\" class=\"dataframe\">\n",
       "  <thead>\n",
       "    <tr style=\"text-align: right;\">\n",
       "      <th></th>\n",
       "      <th>Furniture Product</th>\n",
       "      <th>Price ($)</th>\n",
       "      <th>Units Sold</th>\n",
       "      <th>Shipping ($)</th>\n",
       "    </tr>\n",
       "  </thead>\n",
       "  <tbody>\n",
       "    <tr>\n",
       "      <th>0</th>\n",
       "      <td>Dresser For Bedroom With 9 Fabric Drawers Ward...</td>\n",
       "      <td>46.79</td>\n",
       "      <td>600</td>\n",
       "      <td>Free shipping</td>\n",
       "    </tr>\n",
       "    <tr>\n",
       "      <th>1</th>\n",
       "      <td>Outdoor Conversation Set 4 Pieces Patio Furnit...</td>\n",
       "      <td>169.72</td>\n",
       "      <td>0</td>\n",
       "      <td>Free shipping</td>\n",
       "    </tr>\n",
       "    <tr>\n",
       "      <th>2</th>\n",
       "      <td>Desser For Bedroom With 7 Fabric Drawers Organ...</td>\n",
       "      <td>39.46</td>\n",
       "      <td>7</td>\n",
       "      <td>Free shipping</td>\n",
       "    </tr>\n",
       "    <tr>\n",
       "      <th>3</th>\n",
       "      <td>Modern Accent Boucle Chair,Upholstered Tufted ...</td>\n",
       "      <td>111.99</td>\n",
       "      <td>0</td>\n",
       "      <td>Free shipping</td>\n",
       "    </tr>\n",
       "    <tr>\n",
       "      <th>4</th>\n",
       "      <td>Small Unit Simple Computer Desk Household Wood...</td>\n",
       "      <td>21.37</td>\n",
       "      <td>1</td>\n",
       "      <td>Free shipping</td>\n",
       "    </tr>\n",
       "  </tbody>\n",
       "</table>\n",
       "</div>"
      ],
      "text/plain": [
       "                                   Furniture Product  Price ($)  Units Sold  \\\n",
       "0  Dresser For Bedroom With 9 Fabric Drawers Ward...      46.79         600   \n",
       "1  Outdoor Conversation Set 4 Pieces Patio Furnit...     169.72           0   \n",
       "2  Desser For Bedroom With 7 Fabric Drawers Organ...      39.46           7   \n",
       "3  Modern Accent Boucle Chair,Upholstered Tufted ...     111.99           0   \n",
       "4  Small Unit Simple Computer Desk Household Wood...      21.37           1   \n",
       "\n",
       "    Shipping ($)  \n",
       "0  Free shipping  \n",
       "1  Free shipping  \n",
       "2  Free shipping  \n",
       "3  Free shipping  \n",
       "4  Free shipping  "
      ]
     },
     "execution_count": 474,
     "metadata": {},
     "output_type": "execute_result"
    }
   ],
   "source": [
    "df[\"Price ($)\"] = df[\"Price ($)\"].apply(clean_monetary)\n",
    "df.head() # Price ($) column now contains float values"
   ]
  },
  {
   "cell_type": "code",
   "execution_count": 476,
   "id": "f75b1f0a-86ec-476b-8d5a-64cd0c561e15",
   "metadata": {},
   "outputs": [
    {
     "data": {
      "text/plain": [
       "Shipping ($)\n",
       "Free shipping           1880\n",
       "+Shipping: $5.09           9\n",
       "+Shipping: $239.64         2\n",
       "+Shipping: $97.54          2\n",
       "+Shipping: $64.56          2\n",
       "                        ... \n",
       "+Shipping: $88.26          1\n",
       "+Shipping: $170.31         1\n",
       "+Shipping: $1,097.18       1\n",
       "+Shipping: $106.13         1\n",
       "+Shipping: $171.49         1\n",
       "Name: count, Length: 100, dtype: int64"
      ]
     },
     "execution_count": 476,
     "metadata": {},
     "output_type": "execute_result"
    }
   ],
   "source": [
    "df[\"Shipping ($)\"].value_counts()"
   ]
  },
  {
   "cell_type": "code",
   "execution_count": 478,
   "id": "68f2623c-d222-4cbb-8c6d-5fedbddff233",
   "metadata": {},
   "outputs": [
    {
     "name": "stdout",
     "output_type": "stream",
     "text": [
      "<class 'pandas.core.frame.DataFrame'>\n",
      "RangeIndex: 2000 entries, 0 to 1999\n",
      "Data columns (total 4 columns):\n",
      " #   Column             Non-Null Count  Dtype  \n",
      "---  ------             --------------  -----  \n",
      " 0   Furniture Product  2000 non-null   object \n",
      " 1   Price ($)          2000 non-null   float64\n",
      " 2   Units Sold         2000 non-null   int64  \n",
      " 3   Shipping ($)       1997 non-null   object \n",
      "dtypes: float64(1), int64(1), object(2)\n",
      "memory usage: 62.6+ KB\n"
     ]
    }
   ],
   "source": [
    "df.info() # 3 missing values in Shipping"
   ]
  },
  {
   "cell_type": "code",
   "execution_count": 480,
   "id": "ec49e1d8-e49e-4d85-8640-f015fe0b6a85",
   "metadata": {},
   "outputs": [
    {
     "data": {
      "text/plain": [
       "Furniture Product    0\n",
       "Price ($)            0\n",
       "Units Sold           0\n",
       "Shipping ($)         0\n",
       "dtype: int64"
      ]
     },
     "execution_count": 480,
     "metadata": {},
     "output_type": "execute_result"
    }
   ],
   "source": [
    "mode_val = df['Shipping ($)'].mode()[0]\n",
    "df['Shipping ($)'] = df['Shipping ($)'].fillna(mode_val)  # alternative: df.fillna({'Shipping Info': mode_val}, inplace=True)\n",
    "df.isnull().sum() # all missing values handled (filled)"
   ]
  },
  {
   "cell_type": "code",
   "execution_count": 482,
   "id": "bd195ea7-2588-43c2-ad71-01531f450898",
   "metadata": {},
   "outputs": [
    {
     "data": {
      "text/plain": [
       "Shipping ($)\n",
       "Free shipping           1883\n",
       "+Shipping: $5.09           9\n",
       "+Shipping: $239.64         2\n",
       "+Shipping: $97.54          2\n",
       "+Shipping: $64.56          2\n",
       "                        ... \n",
       "+Shipping: $88.26          1\n",
       "+Shipping: $170.31         1\n",
       "+Shipping: $1,097.18       1\n",
       "+Shipping: $106.13         1\n",
       "+Shipping: $171.49         1\n",
       "Name: count, Length: 100, dtype: int64"
      ]
     },
     "execution_count": 482,
     "metadata": {},
     "output_type": "execute_result"
    }
   ],
   "source": [
    "df[\"Shipping ($)\"].value_counts() # count of the mode value increased as expected"
   ]
  },
  {
   "cell_type": "code",
   "execution_count": 484,
   "id": "41d7ca2d-ca62-4fe9-9ab9-a8ec640827bb",
   "metadata": {},
   "outputs": [
    {
     "name": "stdout",
     "output_type": "stream",
     "text": [
      "<class 'pandas.core.frame.DataFrame'>\n",
      "RangeIndex: 2000 entries, 0 to 1999\n",
      "Data columns (total 4 columns):\n",
      " #   Column             Non-Null Count  Dtype  \n",
      "---  ------             --------------  -----  \n",
      " 0   Furniture Product  2000 non-null   object \n",
      " 1   Price ($)          2000 non-null   float64\n",
      " 2   Units Sold         2000 non-null   int64  \n",
      " 3   Shipping ($)       2000 non-null   float64\n",
      "dtypes: float64(2), int64(1), object(1)\n",
      "memory usage: 62.6+ KB\n"
     ]
    }
   ],
   "source": [
    "df[\"Shipping ($)\"] = df[\"Shipping ($)\"].apply(clean_monetary)\n",
    "df.info()   # Shipping ($) column now contains float values"
   ]
  },
  {
   "cell_type": "code",
   "execution_count": 486,
   "id": "bdc0cff4-7e99-47b0-9c1c-d0af0030ee0f",
   "metadata": {},
   "outputs": [
    {
     "data": {
      "text/html": [
       "<div>\n",
       "<style scoped>\n",
       "    .dataframe tbody tr th:only-of-type {\n",
       "        vertical-align: middle;\n",
       "    }\n",
       "\n",
       "    .dataframe tbody tr th {\n",
       "        vertical-align: top;\n",
       "    }\n",
       "\n",
       "    .dataframe thead th {\n",
       "        text-align: right;\n",
       "    }\n",
       "</style>\n",
       "<table border=\"1\" class=\"dataframe\">\n",
       "  <thead>\n",
       "    <tr style=\"text-align: right;\">\n",
       "      <th></th>\n",
       "      <th>count</th>\n",
       "      <th>mean</th>\n",
       "      <th>std</th>\n",
       "      <th>min</th>\n",
       "      <th>25%</th>\n",
       "      <th>median</th>\n",
       "      <th>75%</th>\n",
       "      <th>max</th>\n",
       "    </tr>\n",
       "  </thead>\n",
       "  <tbody>\n",
       "    <tr>\n",
       "      <th>Price ($)</th>\n",
       "      <td>2000.0</td>\n",
       "      <td>156.560020</td>\n",
       "      <td>176.936735</td>\n",
       "      <td>0.99</td>\n",
       "      <td>48.53</td>\n",
       "      <td>114.08</td>\n",
       "      <td>193.49</td>\n",
       "      <td>2876.38</td>\n",
       "    </tr>\n",
       "    <tr>\n",
       "      <th>Units Sold</th>\n",
       "      <td>2000.0</td>\n",
       "      <td>23.493500</td>\n",
       "      <td>254.094061</td>\n",
       "      <td>0.00</td>\n",
       "      <td>1.00</td>\n",
       "      <td>3.00</td>\n",
       "      <td>9.00</td>\n",
       "      <td>10000.00</td>\n",
       "    </tr>\n",
       "    <tr>\n",
       "      <th>Shipping ($)</th>\n",
       "      <td>2000.0</td>\n",
       "      <td>7.337555</td>\n",
       "      <td>57.309449</td>\n",
       "      <td>0.00</td>\n",
       "      <td>0.00</td>\n",
       "      <td>0.00</td>\n",
       "      <td>0.00</td>\n",
       "      <td>1323.31</td>\n",
       "    </tr>\n",
       "  </tbody>\n",
       "</table>\n",
       "</div>"
      ],
      "text/plain": [
       "               count        mean         std   min    25%  median     75%  \\\n",
       "Price ($)     2000.0  156.560020  176.936735  0.99  48.53  114.08  193.49   \n",
       "Units Sold    2000.0   23.493500  254.094061  0.00   1.00    3.00    9.00   \n",
       "Shipping ($)  2000.0    7.337555   57.309449  0.00   0.00    0.00    0.00   \n",
       "\n",
       "                   max  \n",
       "Price ($)      2876.38  \n",
       "Units Sold    10000.00  \n",
       "Shipping ($)   1323.31  "
      ]
     },
     "execution_count": 486,
     "metadata": {},
     "output_type": "execute_result"
    }
   ],
   "source": [
    "df.describe().T.rename(columns={\"50%\":\"median\"})\n",
    "# R-skewed: Mean > Median (tail to R)\n",
    "# L-skewed: Mean < Median (tail to L)\n",
    "# Price, Units Sold, Shipping are all R-skewed"
   ]
  },
  {
   "cell_type": "code",
   "execution_count": 488,
   "id": "158ef9c9-a279-448e-b72d-54e567f86ffe",
   "metadata": {},
   "outputs": [
    {
     "data": {
      "text/plain": [
       "1793"
      ]
     },
     "execution_count": 488,
     "metadata": {},
     "output_type": "execute_result"
    }
   ],
   "source": [
    "df['Furniture Product'].nunique() # 1793 distinct products from 2000 rows"
   ]
  },
  {
   "cell_type": "markdown",
   "id": "b388c7c6-579a-4b31-8f2c-561f7c0c8c29",
   "metadata": {},
   "source": [
    "### Perform Custom Aggregation for Products that occur in Multiple Rows"
   ]
  },
  {
   "cell_type": "code",
   "execution_count": 491,
   "id": "66868e04-6c74-41c4-bd85-639e71e8eb01",
   "metadata": {},
   "outputs": [
    {
     "data": {
      "text/plain": [
       "Furniture Product\n",
       "3 Pieces Rocking Wicker Bistro Set, Patio Outdoor Furniture Conversation Sets with Porch Chairs and Glass Coffee Table, Beige       6\n",
       "Makeup Vanity Table Set Glass Top Makeup Vanity Table With 10x Magnifying Mirror 3 Light Settings (Modern White) Furnitures Desk    5\n",
       "Makeup Table Makeup Vanity With Lights Make Up Table 2 Cabinets & Long Storage Shelf Furniture Bathroom 10 Led Lights White Desk    5\n",
       "Dressing Table for Bedroom Furniture Home 4 Cabinets & Time Display Makeup Vanity Table Set Vanity Desk With Mirror and Lights      4\n",
       "Vanity Desk With Stool Makeup Vanity Table Set 3 Color Lighting Modes Brightness Adjustable Dressers for Bedroom Furniture Girls    4\n",
       "                                                                                                                                   ..\n",
       "Egg Chair with Stand, Hammock Hanging Chair Nest Basket & Washable Cushions UV Resistant Removable,350LBS Capacity Egg Chair        1\n",
       "Modern Makeup Dressing Table with Adjustable Cabinet and 2 Sliding Drawers, Vanity Table Set for Makeup Room, Bedroom               1\n",
       "Nightstand with Charging Station, Wood Sofa Side Table with 2 Storage Shelf Drawers, Nightstand                                     1\n",
       "FUFU&GAGA Chest of Drawers White Dresser No Handles, 6 Drawer Chest with Wide Storage, Modern Contemporary                          1\n",
       "Bed Frane Bamboo and Metal Platform Bed Frame With Footboard / Wood Slat Support / No Box Spring Needed / Easy Assembly Queen       1\n",
       "Name: count, Length: 1793, dtype: int64"
      ]
     },
     "execution_count": 491,
     "metadata": {},
     "output_type": "execute_result"
    }
   ],
   "source": [
    "df['Furniture Product'].value_counts() # see which products occur in multiple rows"
   ]
  },
  {
   "cell_type": "code",
   "execution_count": 493,
   "id": "abfd9c0c-e254-421a-a7ec-3539d69f4657",
   "metadata": {},
   "outputs": [
    {
     "data": {
      "text/html": [
       "<div>\n",
       "<style scoped>\n",
       "    .dataframe tbody tr th:only-of-type {\n",
       "        vertical-align: middle;\n",
       "    }\n",
       "\n",
       "    .dataframe tbody tr th {\n",
       "        vertical-align: top;\n",
       "    }\n",
       "\n",
       "    .dataframe thead th {\n",
       "        text-align: right;\n",
       "    }\n",
       "</style>\n",
       "<table border=\"1\" class=\"dataframe\">\n",
       "  <thead>\n",
       "    <tr style=\"text-align: right;\">\n",
       "      <th></th>\n",
       "      <th>Furniture Product</th>\n",
       "      <th>Price ($)</th>\n",
       "      <th>Units Sold</th>\n",
       "      <th>Shipping ($)</th>\n",
       "    </tr>\n",
       "  </thead>\n",
       "  <tbody>\n",
       "    <tr>\n",
       "      <th>0</th>\n",
       "      <td>1 Stainless Steel Shoe Rack 3-Layer Tower Stor...</td>\n",
       "      <td>7.15</td>\n",
       "      <td>41</td>\n",
       "      <td>0.00</td>\n",
       "    </tr>\n",
       "    <tr>\n",
       "      <th>1</th>\n",
       "      <td>1 folding chair for home and outdoor use Conve...</td>\n",
       "      <td>0.99</td>\n",
       "      <td>85</td>\n",
       "      <td>0.00</td>\n",
       "    </tr>\n",
       "    <tr>\n",
       "      <th>2</th>\n",
       "      <td>1 set - Household Simple Multi-layer Space-sav...</td>\n",
       "      <td>5.49</td>\n",
       "      <td>64</td>\n",
       "      <td>0.00</td>\n",
       "    </tr>\n",
       "    <tr>\n",
       "      <th>3</th>\n",
       "      <td>1/12 Scale mini house Miniature Round Wooden C...</td>\n",
       "      <td>0.99</td>\n",
       "      <td>23</td>\n",
       "      <td>0.00</td>\n",
       "    </tr>\n",
       "    <tr>\n",
       "      <th>4</th>\n",
       "      <td>1/2/3PCS Plastic Folding Step Stool Portable F...</td>\n",
       "      <td>8.34</td>\n",
       "      <td>1</td>\n",
       "      <td>0.00</td>\n",
       "    </tr>\n",
       "    <tr>\n",
       "      <th>5</th>\n",
       "      <td>10 Drawers Dresser Fabric Storage Tower Cabine...</td>\n",
       "      <td>60.33</td>\n",
       "      <td>2</td>\n",
       "      <td>0.00</td>\n",
       "    </tr>\n",
       "    <tr>\n",
       "      <th>6</th>\n",
       "      <td>10 Tier Shoe Rack with Covers,Large Capacity S...</td>\n",
       "      <td>44.43</td>\n",
       "      <td>20</td>\n",
       "      <td>0.00</td>\n",
       "    </tr>\n",
       "    <tr>\n",
       "      <th>7</th>\n",
       "      <td>104\" Linen Fabric Sofa with Armrest Pockets an...</td>\n",
       "      <td>308.16</td>\n",
       "      <td>7</td>\n",
       "      <td>0.00</td>\n",
       "    </tr>\n",
       "    <tr>\n",
       "      <th>8</th>\n",
       "      <td>104\" Linen Fabric Sofa with Armrest Pockets an...</td>\n",
       "      <td>308.16</td>\n",
       "      <td>7</td>\n",
       "      <td>0.00</td>\n",
       "    </tr>\n",
       "    <tr>\n",
       "      <th>9</th>\n",
       "      <td>11-Tier Shoe Storage Cabinet, 31 Open Cubbie S...</td>\n",
       "      <td>121.45</td>\n",
       "      <td>5</td>\n",
       "      <td>0.00</td>\n",
       "    </tr>\n",
       "    <tr>\n",
       "      <th>10</th>\n",
       "      <td>110\" Sectional Sofa Cloud Couch for Living Roo...</td>\n",
       "      <td>713.77</td>\n",
       "      <td>0</td>\n",
       "      <td>0.00</td>\n",
       "    </tr>\n",
       "    <tr>\n",
       "      <th>11</th>\n",
       "      <td>110°-160° Adjustable Ergonomic Rocker Chair wi...</td>\n",
       "      <td>336.61</td>\n",
       "      <td>0</td>\n",
       "      <td>0.00</td>\n",
       "    </tr>\n",
       "    <tr>\n",
       "      <th>12</th>\n",
       "      <td>12 Pack Large Shoe Organizer Storage Boxes for...</td>\n",
       "      <td>32.60</td>\n",
       "      <td>4</td>\n",
       "      <td>0.00</td>\n",
       "    </tr>\n",
       "    <tr>\n",
       "      <th>13</th>\n",
       "      <td>12 Pack Shoe Storage Box, Shoe Organizer for C...</td>\n",
       "      <td>37.24</td>\n",
       "      <td>10</td>\n",
       "      <td>0.00</td>\n",
       "    </tr>\n",
       "    <tr>\n",
       "      <th>14</th>\n",
       "      <td>13PCS Outdoor Patio Furniture Set with 43\" 550...</td>\n",
       "      <td>1001.17</td>\n",
       "      <td>3</td>\n",
       "      <td>0.00</td>\n",
       "    </tr>\n",
       "    <tr>\n",
       "      <th>15</th>\n",
       "      <td>140cm Living Room S Shape Inflatable Sofa Mini...</td>\n",
       "      <td>37.89</td>\n",
       "      <td>16</td>\n",
       "      <td>0.00</td>\n",
       "    </tr>\n",
       "    <tr>\n",
       "      <th>16</th>\n",
       "      <td>140x180cm extra Big Square Bean Bag Inner Wash...</td>\n",
       "      <td>11.18</td>\n",
       "      <td>16</td>\n",
       "      <td>0.00</td>\n",
       "    </tr>\n",
       "    <tr>\n",
       "      <th>17</th>\n",
       "      <td>16 Drawer Dresser Women's Furniture Makeup Dre...</td>\n",
       "      <td>82.36</td>\n",
       "      <td>1</td>\n",
       "      <td>0.00</td>\n",
       "    </tr>\n",
       "    <tr>\n",
       "      <th>18</th>\n",
       "      <td>16 Drawers Dresser for Bedroom, Tall Dressers ...</td>\n",
       "      <td>117.10</td>\n",
       "      <td>1</td>\n",
       "      <td>0.00</td>\n",
       "    </tr>\n",
       "    <tr>\n",
       "      <th>19</th>\n",
       "      <td>16 Drawers Dresser for Bedroom, Tall Dressers ...</td>\n",
       "      <td>117.10</td>\n",
       "      <td>1</td>\n",
       "      <td>0.00</td>\n",
       "    </tr>\n",
       "    <tr>\n",
       "      <th>20</th>\n",
       "      <td>1828823 outdoor storage furniture, small, Sand...</td>\n",
       "      <td>38.23</td>\n",
       "      <td>0</td>\n",
       "      <td>0.00</td>\n",
       "    </tr>\n",
       "    <tr>\n",
       "      <th>21</th>\n",
       "      <td>1: 12 Miniature Wooden Furniture: Wood Cabinet...</td>\n",
       "      <td>1.99</td>\n",
       "      <td>1</td>\n",
       "      <td>0.00</td>\n",
       "    </tr>\n",
       "    <tr>\n",
       "      <th>22</th>\n",
       "      <td>1:12 Wood Trim Mini Vintage Night Table Mini W...</td>\n",
       "      <td>3.63</td>\n",
       "      <td>12</td>\n",
       "      <td>0.00</td>\n",
       "    </tr>\n",
       "    <tr>\n",
       "      <th>23</th>\n",
       "      <td>1P Shoesbox</td>\n",
       "      <td>50.75</td>\n",
       "      <td>151</td>\n",
       "      <td>2.91</td>\n",
       "    </tr>\n",
       "    <tr>\n",
       "      <th>24</th>\n",
       "      <td>1PC Mini House Night Table Model Wooden Mini B...</td>\n",
       "      <td>0.99</td>\n",
       "      <td>7</td>\n",
       "      <td>0.00</td>\n",
       "    </tr>\n",
       "    <tr>\n",
       "      <th>25</th>\n",
       "      <td>1PC Portable Wardrobe Closet Heavy Duty Hanger...</td>\n",
       "      <td>7.92</td>\n",
       "      <td>0</td>\n",
       "      <td>0.00</td>\n",
       "    </tr>\n",
       "    <tr>\n",
       "      <th>26</th>\n",
       "      <td>1PCS Nordic Dressing Chair Designer Home Desig...</td>\n",
       "      <td>21.19</td>\n",
       "      <td>42</td>\n",
       "      <td>140.27</td>\n",
       "    </tr>\n",
       "    <tr>\n",
       "      <th>27</th>\n",
       "      <td>1Pc Folding Step Stool Plastic Foldable Stool ...</td>\n",
       "      <td>2.86</td>\n",
       "      <td>8</td>\n",
       "      <td>0.00</td>\n",
       "    </tr>\n",
       "    <tr>\n",
       "      <th>28</th>\n",
       "      <td>1pc Large Capacity Clothes Storage Wardrobe wi...</td>\n",
       "      <td>31.48</td>\n",
       "      <td>6</td>\n",
       "      <td>0.00</td>\n",
       "    </tr>\n",
       "    <tr>\n",
       "      <th>29</th>\n",
       "      <td>1pc Outdoor Camping And Fishing Hand Bag Chair...</td>\n",
       "      <td>11.71</td>\n",
       "      <td>6</td>\n",
       "      <td>0.00</td>\n",
       "    </tr>\n",
       "    <tr>\n",
       "      <th>30</th>\n",
       "      <td>1pc Rocking Chair, High Backrest Rocking Accen...</td>\n",
       "      <td>96.39</td>\n",
       "      <td>8</td>\n",
       "      <td>0.00</td>\n",
       "    </tr>\n",
       "    <tr>\n",
       "      <th>31</th>\n",
       "      <td>1pc Sequin Inflatable Sofa Colorfull Sequin La...</td>\n",
       "      <td>0.99</td>\n",
       "      <td>26</td>\n",
       "      <td>0.00</td>\n",
       "    </tr>\n",
       "    <tr>\n",
       "      <th>32</th>\n",
       "      <td>1pc Swing chair sunshade waterproof sunscreen ...</td>\n",
       "      <td>10.85</td>\n",
       "      <td>5</td>\n",
       "      <td>0.00</td>\n",
       "    </tr>\n",
       "    <tr>\n",
       "      <th>33</th>\n",
       "      <td>1pc Wood Folding Step Stool Taburete Non-slip ...</td>\n",
       "      <td>6.07</td>\n",
       "      <td>11</td>\n",
       "      <td>18.44</td>\n",
       "    </tr>\n",
       "    <tr>\n",
       "      <th>34</th>\n",
       "      <td>1pc hammock, outdoor camping leisure anti-roll...</td>\n",
       "      <td>5.43</td>\n",
       "      <td>38</td>\n",
       "      <td>0.00</td>\n",
       "    </tr>\n",
       "    <tr>\n",
       "      <th>35</th>\n",
       "      <td>1set L-Shaped Computer Desk, Modern Simple Sty...</td>\n",
       "      <td>58.97</td>\n",
       "      <td>1</td>\n",
       "      <td>0.00</td>\n",
       "    </tr>\n",
       "    <tr>\n",
       "      <th>36</th>\n",
       "      <td>2 Door Wood Wardrobe Bedroom Closet with Cloth...</td>\n",
       "      <td>173.16</td>\n",
       "      <td>1</td>\n",
       "      <td>0.00</td>\n",
       "    </tr>\n",
       "    <tr>\n",
       "      <th>37</th>\n",
       "      <td>2 Door Wood Wardrobe Bedroom Closet with Cloth...</td>\n",
       "      <td>208.32</td>\n",
       "      <td>7</td>\n",
       "      <td>0.00</td>\n",
       "    </tr>\n",
       "    <tr>\n",
       "      <th>38</th>\n",
       "      <td>2 Door Wood Wardrobe Bedroom Closet with Cloth...</td>\n",
       "      <td>208.32</td>\n",
       "      <td>7</td>\n",
       "      <td>0.00</td>\n",
       "    </tr>\n",
       "    <tr>\n",
       "      <th>39</th>\n",
       "      <td>2 Drawer Nightstand Elegant Bedroom Furniture,...</td>\n",
       "      <td>105.22</td>\n",
       "      <td>1</td>\n",
       "      <td>0.00</td>\n",
       "    </tr>\n",
       "    <tr>\n",
       "      <th>40</th>\n",
       "      <td>2 Drawer Nightstand for Bedroom, Mid Century M...</td>\n",
       "      <td>59.68</td>\n",
       "      <td>3</td>\n",
       "      <td>0.00</td>\n",
       "    </tr>\n",
       "    <tr>\n",
       "      <th>41</th>\n",
       "      <td>2 Drawers Shoe Cabinet Shoe Rack Shoes Organiz...</td>\n",
       "      <td>81.15</td>\n",
       "      <td>0</td>\n",
       "      <td>0.00</td>\n",
       "    </tr>\n",
       "    <tr>\n",
       "      <th>42</th>\n",
       "      <td>2 Pack Nightstand End Table Side Table with 2 ...</td>\n",
       "      <td>117.21</td>\n",
       "      <td>4</td>\n",
       "      <td>0.00</td>\n",
       "    </tr>\n",
       "    <tr>\n",
       "      <th>43</th>\n",
       "      <td>2 Pieces Modular Sectional Sofa, 109\" L-Shape ...</td>\n",
       "      <td>826.09</td>\n",
       "      <td>0</td>\n",
       "      <td>0.00</td>\n",
       "    </tr>\n",
       "    <tr>\n",
       "      <th>44</th>\n",
       "      <td>2-Piece Patio Furniture Wicker Outdoor Lovesea...</td>\n",
       "      <td>193.80</td>\n",
       "      <td>2</td>\n",
       "      <td>0.00</td>\n",
       "    </tr>\n",
       "    <tr>\n",
       "      <th>45</th>\n",
       "      <td>2-Piece Terrace Swing Chair Top Rain Cover Rai...</td>\n",
       "      <td>23.51</td>\n",
       "      <td>6</td>\n",
       "      <td>0.00</td>\n",
       "    </tr>\n",
       "    <tr>\n",
       "      <th>46</th>\n",
       "      <td>2-Tier White Marble Side Table Round Coffee Ta...</td>\n",
       "      <td>55.99</td>\n",
       "      <td>42</td>\n",
       "      <td>0.00</td>\n",
       "    </tr>\n",
       "    <tr>\n",
       "      <th>47</th>\n",
       "      <td>2/3/4/5 layer Nordic Round Bedside Table Mini ...</td>\n",
       "      <td>53.40</td>\n",
       "      <td>21</td>\n",
       "      <td>0.00</td>\n",
       "    </tr>\n",
       "    <tr>\n",
       "      <th>48</th>\n",
       "      <td>2/5 Drawers With LED Mirror Makeup Vanity Tabl...</td>\n",
       "      <td>111.60</td>\n",
       "      <td>1</td>\n",
       "      <td>0.00</td>\n",
       "    </tr>\n",
       "    <tr>\n",
       "      <th>49</th>\n",
       "      <td>2/5 Pieces Patio Furniture Sets All Weather Ou...</td>\n",
       "      <td>237.47</td>\n",
       "      <td>11</td>\n",
       "      <td>0.00</td>\n",
       "    </tr>\n",
       "    <tr>\n",
       "      <th>50</th>\n",
       "      <td>2021 New Bean Bag Sofa Bed Pouf No Filling Stu...</td>\n",
       "      <td>31.17</td>\n",
       "      <td>20</td>\n",
       "      <td>7.80</td>\n",
       "    </tr>\n",
       "    <tr>\n",
       "      <th>51</th>\n",
       "      <td>2022Rotary Shoe Cabinet Plastic Shoe Holder Ch...</td>\n",
       "      <td>33.85</td>\n",
       "      <td>21</td>\n",
       "      <td>4.74</td>\n",
       "    </tr>\n",
       "    <tr>\n",
       "      <th>52</th>\n",
       "      <td>2023 New 3 Drawer Sliding Barrel Modern Bedroo...</td>\n",
       "      <td>37.09</td>\n",
       "      <td>10</td>\n",
       "      <td>0.00</td>\n",
       "    </tr>\n",
       "    <tr>\n",
       "      <th>53</th>\n",
       "      <td>2023 New 3 Drawer Sliding Barrel Modern Bedroo...</td>\n",
       "      <td>37.09</td>\n",
       "      <td>10</td>\n",
       "      <td>0.00</td>\n",
       "    </tr>\n",
       "    <tr>\n",
       "      <th>54</th>\n",
       "      <td>2023 New Easyfashion Convertible Black Faux Le...</td>\n",
       "      <td>132.74</td>\n",
       "      <td>9</td>\n",
       "      <td>0.00</td>\n",
       "    </tr>\n",
       "    <tr>\n",
       "      <th>55</th>\n",
       "      <td>2023 New Mainstays 6-Cube Storage Organizer</td>\n",
       "      <td>24.34</td>\n",
       "      <td>33</td>\n",
       "      <td>0.00</td>\n",
       "    </tr>\n",
       "    <tr>\n",
       "      <th>56</th>\n",
       "      <td>2024 Assemble Dustproof Wardrobe Folding House...</td>\n",
       "      <td>48.34</td>\n",
       "      <td>43</td>\n",
       "      <td>0.00</td>\n",
       "    </tr>\n",
       "    <tr>\n",
       "      <th>57</th>\n",
       "      <td>2024 New 65.1''Loveseat Sofa Couch for Living ...</td>\n",
       "      <td>174.44</td>\n",
       "      <td>5</td>\n",
       "      <td>0.00</td>\n",
       "    </tr>\n",
       "    <tr>\n",
       "      <th>58</th>\n",
       "      <td>2024 New Night Stand Set of 2, Rattan Nightsta...</td>\n",
       "      <td>164.43</td>\n",
       "      <td>4</td>\n",
       "      <td>0.00</td>\n",
       "    </tr>\n",
       "    <tr>\n",
       "      <th>59</th>\n",
       "      <td>2024 New Outdoor Rocking Chair, 3 Piece Porch ...</td>\n",
       "      <td>133.38</td>\n",
       "      <td>0</td>\n",
       "      <td>0.00</td>\n",
       "    </tr>\n",
       "  </tbody>\n",
       "</table>\n",
       "</div>"
      ],
      "text/plain": [
       "                                    Furniture Product  Price ($)  Units Sold  \\\n",
       "0   1 Stainless Steel Shoe Rack 3-Layer Tower Stor...       7.15          41   \n",
       "1   1 folding chair for home and outdoor use Conve...       0.99          85   \n",
       "2   1 set - Household Simple Multi-layer Space-sav...       5.49          64   \n",
       "3   1/12 Scale mini house Miniature Round Wooden C...       0.99          23   \n",
       "4   1/2/3PCS Plastic Folding Step Stool Portable F...       8.34           1   \n",
       "5   10 Drawers Dresser Fabric Storage Tower Cabine...      60.33           2   \n",
       "6   10 Tier Shoe Rack with Covers,Large Capacity S...      44.43          20   \n",
       "7   104\" Linen Fabric Sofa with Armrest Pockets an...     308.16           7   \n",
       "8   104\" Linen Fabric Sofa with Armrest Pockets an...     308.16           7   \n",
       "9   11-Tier Shoe Storage Cabinet, 31 Open Cubbie S...     121.45           5   \n",
       "10  110\" Sectional Sofa Cloud Couch for Living Roo...     713.77           0   \n",
       "11  110°-160° Adjustable Ergonomic Rocker Chair wi...     336.61           0   \n",
       "12  12 Pack Large Shoe Organizer Storage Boxes for...      32.60           4   \n",
       "13  12 Pack Shoe Storage Box, Shoe Organizer for C...      37.24          10   \n",
       "14  13PCS Outdoor Patio Furniture Set with 43\" 550...    1001.17           3   \n",
       "15  140cm Living Room S Shape Inflatable Sofa Mini...      37.89          16   \n",
       "16  140x180cm extra Big Square Bean Bag Inner Wash...      11.18          16   \n",
       "17  16 Drawer Dresser Women's Furniture Makeup Dre...      82.36           1   \n",
       "18  16 Drawers Dresser for Bedroom, Tall Dressers ...     117.10           1   \n",
       "19  16 Drawers Dresser for Bedroom, Tall Dressers ...     117.10           1   \n",
       "20  1828823 outdoor storage furniture, small, Sand...      38.23           0   \n",
       "21  1: 12 Miniature Wooden Furniture: Wood Cabinet...       1.99           1   \n",
       "22  1:12 Wood Trim Mini Vintage Night Table Mini W...       3.63          12   \n",
       "23                                        1P Shoesbox      50.75         151   \n",
       "24  1PC Mini House Night Table Model Wooden Mini B...       0.99           7   \n",
       "25  1PC Portable Wardrobe Closet Heavy Duty Hanger...       7.92           0   \n",
       "26  1PCS Nordic Dressing Chair Designer Home Desig...      21.19          42   \n",
       "27  1Pc Folding Step Stool Plastic Foldable Stool ...       2.86           8   \n",
       "28  1pc Large Capacity Clothes Storage Wardrobe wi...      31.48           6   \n",
       "29  1pc Outdoor Camping And Fishing Hand Bag Chair...      11.71           6   \n",
       "30  1pc Rocking Chair, High Backrest Rocking Accen...      96.39           8   \n",
       "31  1pc Sequin Inflatable Sofa Colorfull Sequin La...       0.99          26   \n",
       "32  1pc Swing chair sunshade waterproof sunscreen ...      10.85           5   \n",
       "33  1pc Wood Folding Step Stool Taburete Non-slip ...       6.07          11   \n",
       "34  1pc hammock, outdoor camping leisure anti-roll...       5.43          38   \n",
       "35  1set L-Shaped Computer Desk, Modern Simple Sty...      58.97           1   \n",
       "36  2 Door Wood Wardrobe Bedroom Closet with Cloth...     173.16           1   \n",
       "37  2 Door Wood Wardrobe Bedroom Closet with Cloth...     208.32           7   \n",
       "38  2 Door Wood Wardrobe Bedroom Closet with Cloth...     208.32           7   \n",
       "39  2 Drawer Nightstand Elegant Bedroom Furniture,...     105.22           1   \n",
       "40  2 Drawer Nightstand for Bedroom, Mid Century M...      59.68           3   \n",
       "41  2 Drawers Shoe Cabinet Shoe Rack Shoes Organiz...      81.15           0   \n",
       "42  2 Pack Nightstand End Table Side Table with 2 ...     117.21           4   \n",
       "43  2 Pieces Modular Sectional Sofa, 109\" L-Shape ...     826.09           0   \n",
       "44  2-Piece Patio Furniture Wicker Outdoor Lovesea...     193.80           2   \n",
       "45  2-Piece Terrace Swing Chair Top Rain Cover Rai...      23.51           6   \n",
       "46  2-Tier White Marble Side Table Round Coffee Ta...      55.99          42   \n",
       "47  2/3/4/5 layer Nordic Round Bedside Table Mini ...      53.40          21   \n",
       "48  2/5 Drawers With LED Mirror Makeup Vanity Tabl...     111.60           1   \n",
       "49  2/5 Pieces Patio Furniture Sets All Weather Ou...     237.47          11   \n",
       "50  2021 New Bean Bag Sofa Bed Pouf No Filling Stu...      31.17          20   \n",
       "51  2022Rotary Shoe Cabinet Plastic Shoe Holder Ch...      33.85          21   \n",
       "52  2023 New 3 Drawer Sliding Barrel Modern Bedroo...      37.09          10   \n",
       "53  2023 New 3 Drawer Sliding Barrel Modern Bedroo...      37.09          10   \n",
       "54  2023 New Easyfashion Convertible Black Faux Le...     132.74           9   \n",
       "55        2023 New Mainstays 6-Cube Storage Organizer      24.34          33   \n",
       "56  2024 Assemble Dustproof Wardrobe Folding House...      48.34          43   \n",
       "57  2024 New 65.1''Loveseat Sofa Couch for Living ...     174.44           5   \n",
       "58  2024 New Night Stand Set of 2, Rattan Nightsta...     164.43           4   \n",
       "59  2024 New Outdoor Rocking Chair, 3 Piece Porch ...     133.38           0   \n",
       "\n",
       "    Shipping ($)  \n",
       "0           0.00  \n",
       "1           0.00  \n",
       "2           0.00  \n",
       "3           0.00  \n",
       "4           0.00  \n",
       "5           0.00  \n",
       "6           0.00  \n",
       "7           0.00  \n",
       "8           0.00  \n",
       "9           0.00  \n",
       "10          0.00  \n",
       "11          0.00  \n",
       "12          0.00  \n",
       "13          0.00  \n",
       "14          0.00  \n",
       "15          0.00  \n",
       "16          0.00  \n",
       "17          0.00  \n",
       "18          0.00  \n",
       "19          0.00  \n",
       "20          0.00  \n",
       "21          0.00  \n",
       "22          0.00  \n",
       "23          2.91  \n",
       "24          0.00  \n",
       "25          0.00  \n",
       "26        140.27  \n",
       "27          0.00  \n",
       "28          0.00  \n",
       "29          0.00  \n",
       "30          0.00  \n",
       "31          0.00  \n",
       "32          0.00  \n",
       "33         18.44  \n",
       "34          0.00  \n",
       "35          0.00  \n",
       "36          0.00  \n",
       "37          0.00  \n",
       "38          0.00  \n",
       "39          0.00  \n",
       "40          0.00  \n",
       "41          0.00  \n",
       "42          0.00  \n",
       "43          0.00  \n",
       "44          0.00  \n",
       "45          0.00  \n",
       "46          0.00  \n",
       "47          0.00  \n",
       "48          0.00  \n",
       "49          0.00  \n",
       "50          7.80  \n",
       "51          4.74  \n",
       "52          0.00  \n",
       "53          0.00  \n",
       "54          0.00  \n",
       "55          0.00  \n",
       "56          0.00  \n",
       "57          0.00  \n",
       "58          0.00  \n",
       "59          0.00  "
      ]
     },
     "execution_count": 493,
     "metadata": {},
     "output_type": "execute_result"
    }
   ],
   "source": [
    "df = df.sort_values(by=['Furniture Product']).reset_index(drop=True)\n",
    "df.tail(60) # looking at adjacent rows that have same Furniture Product\n",
    "df.head(60)"
   ]
  },
  {
   "cell_type": "code",
   "execution_count": 495,
   "id": "3300ea93-a027-4631-86d1-2f2c8bb81c78",
   "metadata": {
    "scrolled": true
   },
   "outputs": [
    {
     "data": {
      "text/html": [
       "<div>\n",
       "<style scoped>\n",
       "    .dataframe tbody tr th:only-of-type {\n",
       "        vertical-align: middle;\n",
       "    }\n",
       "\n",
       "    .dataframe tbody tr th {\n",
       "        vertical-align: top;\n",
       "    }\n",
       "\n",
       "    .dataframe thead th {\n",
       "        text-align: right;\n",
       "    }\n",
       "</style>\n",
       "<table border=\"1\" class=\"dataframe\">\n",
       "  <thead>\n",
       "    <tr style=\"text-align: right;\">\n",
       "      <th></th>\n",
       "      <th>Furniture Product</th>\n",
       "      <th>Mean Price per Unit ($)</th>\n",
       "      <th>Total Units Sold</th>\n",
       "      <th>Mean Shipping Price per Unit ($)</th>\n",
       "    </tr>\n",
       "  </thead>\n",
       "  <tbody>\n",
       "    <tr>\n",
       "      <th>0</th>\n",
       "      <td>1 Stainless Steel Shoe Rack 3-Layer Tower Stor...</td>\n",
       "      <td>7.15</td>\n",
       "      <td>41.0</td>\n",
       "      <td>0.0</td>\n",
       "    </tr>\n",
       "    <tr>\n",
       "      <th>1</th>\n",
       "      <td>1 folding chair for home and outdoor use Conve...</td>\n",
       "      <td>0.99</td>\n",
       "      <td>85.0</td>\n",
       "      <td>0.0</td>\n",
       "    </tr>\n",
       "    <tr>\n",
       "      <th>2</th>\n",
       "      <td>1 set - Household Simple Multi-layer Space-sav...</td>\n",
       "      <td>5.49</td>\n",
       "      <td>64.0</td>\n",
       "      <td>0.0</td>\n",
       "    </tr>\n",
       "    <tr>\n",
       "      <th>3</th>\n",
       "      <td>1/12 Scale mini house Miniature Round Wooden C...</td>\n",
       "      <td>0.99</td>\n",
       "      <td>23.0</td>\n",
       "      <td>0.0</td>\n",
       "    </tr>\n",
       "    <tr>\n",
       "      <th>4</th>\n",
       "      <td>1/2/3PCS Plastic Folding Step Stool Portable F...</td>\n",
       "      <td>8.34</td>\n",
       "      <td>1.0</td>\n",
       "      <td>0.0</td>\n",
       "    </tr>\n",
       "    <tr>\n",
       "      <th>...</th>\n",
       "      <td>...</td>\n",
       "      <td>...</td>\n",
       "      <td>...</td>\n",
       "      <td>...</td>\n",
       "    </tr>\n",
       "    <tr>\n",
       "      <th>1788</th>\n",
       "      <td>living room sofas Sectional Sofa, Modular Sect...</td>\n",
       "      <td>1197.77</td>\n",
       "      <td>0.0</td>\n",
       "      <td>0.0</td>\n",
       "    </tr>\n",
       "    <tr>\n",
       "      <th>1789</th>\n",
       "      <td>sofasSet, Modular Sectional Sofa with Reversib...</td>\n",
       "      <td>248.60</td>\n",
       "      <td>16.0</td>\n",
       "      <td>0.0</td>\n",
       "    </tr>\n",
       "    <tr>\n",
       "      <th>1790</th>\n",
       "      <td>trolley organizer Storage cabinet for multiple...</td>\n",
       "      <td>116.47</td>\n",
       "      <td>35.0</td>\n",
       "      <td>0.0</td>\n",
       "    </tr>\n",
       "    <tr>\n",
       "      <th>1791</th>\n",
       "      <td>usikey Vanity Desk Set with Large Lighted Mirr...</td>\n",
       "      <td>99.86</td>\n",
       "      <td>1.0</td>\n",
       "      <td>0.0</td>\n",
       "    </tr>\n",
       "    <tr>\n",
       "      <th>1792</th>\n",
       "      <td>】RaybeeFurniture Double Rod Clothing Rack Roll...</td>\n",
       "      <td>70.37</td>\n",
       "      <td>1.0</td>\n",
       "      <td>0.0</td>\n",
       "    </tr>\n",
       "  </tbody>\n",
       "</table>\n",
       "<p>1793 rows × 4 columns</p>\n",
       "</div>"
      ],
      "text/plain": [
       "                                      Furniture Product  \\\n",
       "0     1 Stainless Steel Shoe Rack 3-Layer Tower Stor...   \n",
       "1     1 folding chair for home and outdoor use Conve...   \n",
       "2     1 set - Household Simple Multi-layer Space-sav...   \n",
       "3     1/12 Scale mini house Miniature Round Wooden C...   \n",
       "4     1/2/3PCS Plastic Folding Step Stool Portable F...   \n",
       "...                                                 ...   \n",
       "1788  living room sofas Sectional Sofa, Modular Sect...   \n",
       "1789  sofasSet, Modular Sectional Sofa with Reversib...   \n",
       "1790  trolley organizer Storage cabinet for multiple...   \n",
       "1791  usikey Vanity Desk Set with Large Lighted Mirr...   \n",
       "1792  】RaybeeFurniture Double Rod Clothing Rack Roll...   \n",
       "\n",
       "      Mean Price per Unit ($)  Total Units Sold  \\\n",
       "0                        7.15              41.0   \n",
       "1                        0.99              85.0   \n",
       "2                        5.49              64.0   \n",
       "3                        0.99              23.0   \n",
       "4                        8.34               1.0   \n",
       "...                       ...               ...   \n",
       "1788                  1197.77               0.0   \n",
       "1789                   248.60              16.0   \n",
       "1790                   116.47              35.0   \n",
       "1791                    99.86               1.0   \n",
       "1792                    70.37               1.0   \n",
       "\n",
       "      Mean Shipping Price per Unit ($)  \n",
       "0                                  0.0  \n",
       "1                                  0.0  \n",
       "2                                  0.0  \n",
       "3                                  0.0  \n",
       "4                                  0.0  \n",
       "...                                ...  \n",
       "1788                               0.0  \n",
       "1789                               0.0  \n",
       "1790                               0.0  \n",
       "1791                               0.0  \n",
       "1792                               0.0  \n",
       "\n",
       "[1793 rows x 4 columns]"
      ]
     },
     "execution_count": 495,
     "metadata": {},
     "output_type": "execute_result"
    }
   ],
   "source": [
    "# our custom rules for aggregation where multiple rows contain same Furniture Product: \n",
    "# get the sum of Units Sold\n",
    "# get the weighted average of Price ($). (weighting according to Units Sold)\n",
    "# get the weighted average of Shipping ($). (weighting according to Units Sold)\n",
    "\n",
    "def weighted_mean(tbl, v_col, w_col):\n",
    "    if tbl[w_col].sum() == 0: # if Units Sold is 0 for all rows of a given product, compute regular mean for Price, Shipping\n",
    "        regular_avg = tbl[v_col].sum() / len(tbl[v_col]) \n",
    "        return regular_avg       # this handles (prevents) division by 0\n",
    "    else:\n",
    "        weighted_avg = (tbl[v_col] * tbl[w_col]).sum() / tbl[w_col].sum()\n",
    "        return weighted_avg\n",
    "\n",
    "def custom_agg(tbl):\n",
    "    return pd.Series({\n",
    "        'Mean Price per Unit ($)': weighted_mean(tbl, 'Price ($)', 'Units Sold'),\n",
    "        'Total Units Sold': tbl['Units Sold'].sum(),\n",
    "        'Mean Shipping Price per Unit ($)': weighted_mean(tbl, 'Shipping ($)', 'Units Sold')\n",
    "    }) # note: this func would aggregate the whole table if not used along with groupby('Furniture Product')\n",
    "\n",
    "df_aggregated = df.groupby(\"Furniture Product\").apply(custom_agg, include_groups=False).round(2).reset_index()\n",
    "df_aggregated"
   ]
  },
  {
   "cell_type": "code",
   "execution_count": 497,
   "id": "5797a225-46e4-4999-b11b-2c774a078bdf",
   "metadata": {},
   "outputs": [
    {
     "name": "stdout",
     "output_type": "stream",
     "text": [
      "<class 'pandas.core.frame.DataFrame'>\n",
      "RangeIndex: 1793 entries, 0 to 1792\n",
      "Data columns (total 4 columns):\n",
      " #   Column                            Non-Null Count  Dtype  \n",
      "---  ------                            --------------  -----  \n",
      " 0   Furniture Product                 1793 non-null   object \n",
      " 1   Mean Price per Unit ($)           1793 non-null   float64\n",
      " 2   Total Units Sold                  1793 non-null   int32  \n",
      " 3   Mean Shipping Price per Unit ($)  1793 non-null   float64\n",
      "dtypes: float64(2), int32(1), object(1)\n",
      "memory usage: 49.2+ KB\n"
     ]
    }
   ],
   "source": [
    "df_aggregated['Total Units Sold'] = df_aggregated['Total Units Sold'].astype(int)\n",
    "df_aggregated.info() # values aggregated, no missing values, correct dtypes"
   ]
  },
  {
   "cell_type": "markdown",
   "id": "306f27d6-7583-41cf-8ef4-6c05b8a8173c",
   "metadata": {},
   "source": [
    "### Natural Language Processing to make the Furniture Product names insightful towards assigning Product Categories"
   ]
  },
  {
   "cell_type": "code",
   "execution_count": null,
   "id": "b214c78c-3d89-48d8-8416-6e90d2a7c8f5",
   "metadata": {},
   "outputs": [],
   "source": [
    "# gather all words in the Furniture Product column, removing anything that's not letters\n",
    "\n",
    "# find the 8 most popular words\n",
    "\n",
    "# remove stop words: custom stop words - domain relevant: and, set, for, etc. \n",
    "\n",
    "# find the 8 most popular words\n",
    "\n",
    "# find out if at least one of those words occur in every single row of df_aggregated, else mark rows that don't fit into these as \"other\""
   ]
  },
  {
   "cell_type": "code",
   "execution_count": 59,
   "id": "97f1d902-6abd-4580-8df9-782653fca66e",
   "metadata": {},
   "outputs": [],
   "source": [
    "# product tags cols\n",
    "# they will be boolean: true/false\n"
   ]
  },
  {
   "cell_type": "code",
   "execution_count": null,
   "id": "61cf2205-e882-47e4-a975-5e49624fd287",
   "metadata": {},
   "outputs": [],
   "source": []
  },
  {
   "cell_type": "code",
   "execution_count": null,
   "id": "d5ba05b7-70a0-4bf3-9a8a-aaf9da3a0d9a",
   "metadata": {},
   "outputs": [],
   "source": []
  },
  {
   "cell_type": "code",
   "execution_count": null,
   "id": "441f766d-e3b4-4eb8-af8c-289dea9f7398",
   "metadata": {},
   "outputs": [],
   "source": []
  },
  {
   "cell_type": "markdown",
   "id": "ca8eb4c4-c16a-4c94-a3ac-6a46bbca14b5",
   "metadata": {},
   "source": [
    "### Building a K-Nearest Neighbors Model to predict Units Sold for each Product Category"
   ]
  },
  {
   "cell_type": "code",
   "execution_count": 253,
   "id": "e53f0ca0-80d5-4917-959b-87fd870f12ec",
   "metadata": {},
   "outputs": [],
   "source": [
    "# either df_aggregated or df_original_price\n",
    "# use original price, current price, price diff, shipping, and product tags to predict the units sold of a product category *good business idea\n",
    "# target: units sold\n",
    "# use KNN for this"
   ]
  },
  {
   "cell_type": "code",
   "execution_count": null,
   "id": "445a1d05-b073-44b9-8f4b-e196164b7a75",
   "metadata": {},
   "outputs": [],
   "source": [
    "# export csvs to take to power bi\n",
    "# df_aggregated, df_original_price, df_knn_results"
   ]
  }
 ],
 "metadata": {
  "kernelspec": {
   "display_name": "Python 3 (ipykernel)",
   "language": "python",
   "name": "python3"
  },
  "language_info": {
   "codemirror_mode": {
    "name": "ipython",
    "version": 3
   },
   "file_extension": ".py",
   "mimetype": "text/x-python",
   "name": "python",
   "nbconvert_exporter": "python",
   "pygments_lexer": "ipython3",
   "version": "3.11.7"
  }
 },
 "nbformat": 4,
 "nbformat_minor": 5
}
